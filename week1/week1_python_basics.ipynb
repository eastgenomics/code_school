{
 "cells": [
  {
   "cell_type": "markdown",
   "metadata": {},
   "source": [
    "### Week 1 - Python Basics\n",
    "\n",
    "Covers:\n",
    "\n",
    "    - Importing modules\n",
    "    - Reading / writing files\n",
    "    - Building functions\n",
    "    - Docstrings & commenting\n",
    "    - Styling & good practices"
   ]
  },
  {
   "source": [
    "#### Importing modules\n",
    "\n",
    "Always at top of script, always ordered alphabetically\n",
    "\n",
    "Can order as you like, sensible examples are seperating system, 3rd party and local package imports:\n",
    "\n",
    "\n"
   ],
   "cell_type": "markdown",
   "metadata": {}
  },
  {
   "cell_type": "code",
   "execution_count": null,
   "metadata": {},
   "outputs": [],
   "source": [
    "# system\n",
    "import math\n",
    "import os\n",
    "import sys\n",
    "from time import sleep\n",
    "\n",
    "# 3rd party installed\n",
    "import numpy as np\n",
    "import pandas as pd\n",
    "\n",
    "# local packages\n",
    "import week1_example_script as example"
   ]
  },
  {
   "cell_type": "code",
   "execution_count": null,
   "metadata": {},
   "outputs": [],
   "source": [
    "# functions imported from other scripts may be called\n",
    "example.say_hello()"
   ]
  },
  {
   "source": [
    "#### Reading & writing files\n",
    "\n",
    "Use the python `open()` function to open files, can be used both to open files for reading and writing.\n",
    "\n",
    "\n",
    "`open(filename, mode)`\n"
   ],
   "cell_type": "markdown",
   "metadata": {}
  },
  {
   "cell_type": "code",
   "execution_count": null,
   "metadata": {},
   "outputs": [],
   "source": [
    "# open file and read all lines\n",
    "f = open('./example_file.tsv', 'r')\n",
    "f.read()"
   ]
  },
  {
   "cell_type": "code",
   "execution_count": null,
   "metadata": {},
   "outputs": [],
   "source": [
    "# read specific line\n",
    "f = open('./example_file.tsv', 'r')\n",
    "f_lines = f.readlines() # read in all lines and store in f_lines variable\n",
    "f.close()\n",
    "\n",
    "# read just the 6th line\n",
    "f_lines[5]"
   ]
  },
  {
   "cell_type": "code",
   "execution_count": null,
   "metadata": {},
   "outputs": [],
   "source": [
    "# loop over file and read lines, allows to do operations on file as reading\n",
    "f = open('./example_file.tsv', 'r')\n",
    "for line in f:\n",
    "    if 'A2M' in line:\n",
    "        print(line)\n",
    "f.close()"
   ]
  },
  {
   "cell_type": "code",
   "execution_count": null,
   "metadata": {},
   "outputs": [],
   "source": [
    "# use of with statement automatically closes file\n",
    "with open('./example_file.tsv') as f:\n",
    "    # read file into a Pandas dataframe\n",
    "    df = pd.read_csv(f, sep='\\t')\n",
    "\n",
    "print(df)\n"
   ]
  },
  {
   "cell_type": "code",
   "execution_count": null,
   "metadata": {},
   "outputs": [],
   "source": [
    "# open a new file, use 'w' mode to write to file\n",
    "f = open('./output/new_example_file.txt', 'w')\n",
    "f.write('line1\\n')\n",
    "f.close()"
   ]
  },
  {
   "cell_type": "code",
   "execution_count": null,
   "metadata": {},
   "outputs": [],
   "source": [
    "# open file in 'a' mode to append to file, else it will be overwritten\n",
    "f = open('./output/new_example_file.txt', 'a')\n",
    "f.write('line2\\n')\n",
    "f.close()"
   ]
  },
  {
   "cell_type": "code",
   "execution_count": null,
   "metadata": {},
   "outputs": [],
   "source": [
    "# many packages have their own functions for writing e.g. Pandas\n",
    "\n",
    "df.to_csv('./output/saved_df.tsv', sep='\\t')\n",
    "df.to_excel('./output/saved_df.xlsx')"
   ]
  },
  {
   "source": [
    "#### Building Functions\n",
    "\n",
    "Functions in python are defined first with `def()`, block of code when run that can be passed arguments and return results"
   ],
   "cell_type": "markdown",
   "metadata": {}
  },
  {
   "cell_type": "code",
   "execution_count": null,
   "metadata": {},
   "outputs": [],
   "source": [
    "def read_file(file_to_open):\n",
    "    with open(file_to_open) as f:\n",
    "        df = pd.read_csv(f, sep='\\t')\n",
    "\n",
    "    return df"
   ]
  },
  {
   "cell_type": "code",
   "execution_count": null,
   "metadata": {},
   "outputs": [],
   "source": [
    "df = read_file('./example_file.tsv')\n",
    "print(df)"
   ]
  },
  {
   "source": [
    "Key things for a good function:\n",
    "\n",
    "- does one 'thing'\n",
    "- sensibily named, often useful to begin with an adjective (i.e. read, get, split etc.)\n",
    "- verbose names are better than abbreviated\n",
    "- use when doing the same thing repeatedly (i.e. a calculation or filtering data etc.)\n",
    "- docstrings"
   ],
   "cell_type": "markdown",
   "metadata": {}
  },
  {
   "cell_type": "code",
   "execution_count": 59,
   "metadata": {},
   "outputs": [],
   "source": [
    "def get_sample_id(name):\n",
    "    if '_' in name:\n",
    "        sample_id = name.split('_')[0]\n",
    "        print(f'Sample id is: {sample_id}')\n",
    "        return sample_id\n",
    "    else:\n",
    "        print('Given name does not contain \"_\"')\n",
    "        return\n"
   ]
  },
  {
   "cell_type": "code",
   "execution_count": 60,
   "metadata": {},
   "outputs": [
    {
     "output_type": "stream",
     "name": "stdout",
     "text": [
      "Sample id is: sample1\n"
     ]
    }
   ],
   "source": [
    "name = \"sample1_abc_123\"\n",
    "sample_id = get_sample_id(name)\n"
   ]
  },
  {
   "cell_type": "code",
   "execution_count": 62,
   "metadata": {},
   "outputs": [
    {
     "output_type": "stream",
     "name": "stdout",
     "text": [
      "Given name does not contain \"_\"\nNone\n"
     ]
    }
   ],
   "source": [
    "name = 'somethingElse'\n",
    "sample_id = get_sample_id(name)\n",
    "print(sample_id)"
   ]
  },
  {
   "source": [
    "#### Docstrings & comments\n",
    "\n",
    "Use to make code understandable and more readable, can use either pairs of triple quotes for docstring and \\# for comments\n",
    "\n",
    "Code should be written to be readable on it's own, but comments can help for more complex functions and / or rationale of why something is being done\n",
    "i.e. "
   ],
   "cell_type": "markdown",
   "metadata": {}
  },
  {
   "cell_type": "code",
   "execution_count": null,
   "metadata": {},
   "outputs": [],
   "source": [
    "def read_file(file_to_open):\n",
    "    \"\"\"\n",
    "    Reads in given file to Pandas dataframe\n",
    "\n",
    "    Args:\n",
    "        - file_to_open (str): path to file to read in\n",
    "    \n",
    "    Returns:    \n",
    "        - df (df): DataFrame of data in given file\n",
    "    \"\"\"\n",
    "    with open(file_to_open) as f:\n",
    "        df = pd.read_csv(f, sep='\\t')\n",
    "\n",
    "    return df"
   ]
  },
  {
   "source": [
    "#### Styling & Good Practices\n",
    "\n",
    "PEP8 style guide: http://www.python.org/dev/peps/pep-0008/\n",
    "\n",
    "Easiest to use a linter extension to IDE, e.g. pylinter for VSCode, will automatically highlight most issues\n",
    "\n",
    "Things to follow:\n",
    "\n",
    "- variables, functions, methods: `lower_case_with_underscores`\n",
    "- classes: `classesAsCamelCase`\n",
    "- **No single character variables** except in very short blocks, i.e.:\n",
    "\n",
    "&nbsp;&nbsp;&nbsp;&nbsp;`for i in range(0, 10):`\n",
    "\n",
    "&nbsp;&nbsp;&nbsp;&nbsp;&nbsp;&nbsp;&nbsp;&nbsp;`print(i)`\n",
    "\n",
    "- better to be more verbose in naming to make it easier to read\n",
    "\n",
    "- limit line length, comments/doc strings 72 characters, code 79 (doesn't have to be strict if makes it less readable)\n",
    "- can split strings in different ways, preffered is to use parentheses:\n",
    "\n",
    "&nbsp;&nbsp;&nbsp;&nbsp;`long_string = (`\n",
    "    \n",
    "&nbsp;&nbsp;&nbsp;&nbsp;&nbsp;&nbsp;&nbsp;&nbsp;`\"this is a really really really really really really really \"`\n",
    "\n",
    "&nbsp;&nbsp;&nbsp;&nbsp;&nbsp;&nbsp;&nbsp;&nbsp;`\"really really really really really long string\"`\n",
    "\n",
    "&nbsp;&nbsp;&nbsp;&nbsp;`)`\n",
    "\n",
    "- formatting strings using f-strings to add in variables: https://www.python.org/dev/peps/pep-0498/\n",
    "\n",
    "```\n",
    "name='John'\n",
    "formatted_string = f\"His name is {name}\"\n",
    "```\n",
    "\n",
    "- adding rulers in IDE makes this easier to follow\n",
    "- add single line doc strings for obvious functions (i.e `find_sqrt()` above), multi line with args/returns/outputs for more complex, can also include short usage if appropriate\n",
    "- prefer code being readable over lots of comments\n",
    "- using `__name__` global variable:\n",
    "    - `if __name__ == __main__:` used to define what to run when the script is called\n",
    "    - typically all code should be in functions, then the functions called in this section\n",
    "    - https://docs.python.org/3/library/__main__.html\n",
    "\n",
    "- generally should **not** use globals => variables defined outside of functions (in global scope)\n",
    "- these are bad pratice as can cause conflicts and make it difficult to identify errors, unexpected side effects etc\n",
    "- exception are constansts which should be `ALWAYS_CAPITALISED`\n",
    "- constants are a type of variable that can't be changed, normally defined in a file then imported (i.e. for tokens):\n",
    "\n",
    "&nbsp;&nbsp;&nbsp;&nbsp;token.py:\n",
    "\n",
    "&nbsp;&nbsp;&nbsp;&nbsp;```AUTH_TOKEN = 'XXXXXX'```\n",
    "\n",
    "\n",
    "\n",
    "&nbsp;&nbsp;&nbsp;&nbsp;my_script.py:\n",
    "\n",
    "&nbsp;&nbsp;&nbsp;&nbsp;```from token import AUTH_TOKEN```\n",
    "\n",
    "- consistent use of spaces between lines and functions etc.\n",
    "\n",
    "\n",
    "Example (relatively) short scripts:\n",
    "- https://github.com/eastgenomics/eggd_generate_bed/blob/master/resources/home/dnanexus/generate_bed.py\n",
    "- https://github.com/eastgenomics/dx_job_monitor/blob/main/dx_job_monitor.py\n",
    "- https://github.com/eastgenomics/hermes/blob/main/hermes.py\n",
    "- https://github.com/eastgenomics/athena/blob/master/bin/coverage_stats_single.py\n",
    "- https://github.com/Addy81/BroadWork/blob/master/bin/2.hap.py-analysis.ipynb\n"
   ],
   "cell_type": "markdown",
   "metadata": {}
  },
  {
   "source": [
    "#### Useful resources\n",
    "- common useful functions with worked examples: https://www.w3schools.com/python/python_ref_functions.asp\n",
    "- StackOverflow, W3schools, learnpython.org, docs.python.org\n",
    "\n",
    "Books:\n",
    "- Learn Python the Hard Way\n",
    "    - Lots of exercises, teaches Python through doing lots of coding practice\n",
    "    - https://www.valeacademy.org.uk/documents/download/5e7e0291-cfa4-4f7e-84af-64cf0a01017d.pdf\n",
    "- Think Python\n",
    "    - Separate chapters covering core concepts, some examples & mini projects to practice\n",
    "    - https://greenteapress.com/wp/think-python/\n",
    "- Automate the Boring Stuff:\n",
    "    - Lots of projects, good for learning how to put things together\n",
    "    - https://automatetheboringstuff.com/\n",
    "    "
   ],
   "cell_type": "markdown",
   "metadata": {}
  }
 ],
 "metadata": {
  "kernelspec": {
   "display_name": "Python 3",
   "language": "python",
   "name": "python3"
  },
  "language_info": {
   "codemirror_mode": {
    "name": "ipython",
    "version": 3
   },
   "file_extension": ".py",
   "mimetype": "text/x-python",
   "name": "python",
   "nbconvert_exporter": "python",
   "pygments_lexer": "ipython3",
   "version": "3.6.9-final"
  }
 },
 "nbformat": 4,
 "nbformat_minor": 2
}