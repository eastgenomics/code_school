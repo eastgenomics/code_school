{
 "cells": [
  {
   "cell_type": "markdown",
   "metadata": {},
   "source": [
    "### Week 1 - Python Basics\n",
    "\n",
    "Covers:\n",
    "\n",
    "    - Importing modules\n",
    "    - Reading / writing files\n",
    "    - Passing arguments\n",
    "    - Building functions\n",
    "    - Docstrings & commenting\n",
    "    - Styling & good practices"
   ]
  },
  {
   "source": [
    "### Running Python\n",
    "- via interpreter => type `python` at cmd line and write code line by line\n",
    "- Jupyter notebooks => code blocks that can be run individually, good for one off type analysis and plotting\n",
    "- `.py` scripts => normal python scripts that are executed as `python my_script.py`"
   ],
   "cell_type": "markdown",
   "metadata": {}
  },
  {
   "source": [
    "#### Importing modules\n",
    "\n",
    "Always at top of script, always ordered alphabetically\n",
    "\n",
    "Can order as you like, sensible examples are seperating system, 3rd party and local package imports:\n",
    "\n",
    "\n"
   ],
   "cell_type": "markdown",
   "metadata": {}
  },
  {
   "cell_type": "code",
   "execution_count": 63,
   "metadata": {},
   "outputs": [],
   "source": [
    "# system\n",
    "import math\n",
    "import os\n",
    "import sys\n",
    "from time import sleep\n",
    "\n",
    "# 3rd party installed\n",
    "import numpy as np\n",
    "import pandas as pd\n",
    "\n",
    "# local packages\n",
    "import week1_example_script as example"
   ]
  },
  {
   "cell_type": "code",
   "execution_count": 64,
   "metadata": {},
   "outputs": [
    {
     "output_type": "stream",
     "name": "stdout",
     "text": [
      "Hello\n"
     ]
    }
   ],
   "source": [
    "# functions imported from other scripts may be called\n",
    "example.say_hello()"
   ]
  },
  {
   "source": [
    "### Data types\n",
    "\n",
    "A few data types exist in Python, a few common:\n",
    "- integers (int): Number\n",
    "- float (float): Floating point number\n",
    "- strings (str): Plain text\n",
    "- lists (list): Allow containing of other data types in a structured way\n",
    "- dictionaries (dicts): Allow containing of other data types using a key to value structure\n",
    "\n",
    "A few less used:\n",
    "- tuples (tuple): Allow of non mutable storing of other data types\n",
    "- sets (set): Allow storage of unique values\n",
    "\n"
   ],
   "cell_type": "markdown",
   "metadata": {}
  },
  {
   "cell_type": "code",
   "execution_count": 4,
   "metadata": {},
   "outputs": [
    {
     "output_type": "stream",
     "name": "stdout",
     "text": [
      "<class 'int'>\n<class 'float'>\n<class 'str'>\n<class 'list'>\n<class 'dict'>\n<class 'tuple'>\n<class 'set'>\n"
     ]
    }
   ],
   "source": [
    "print(type(2021))\n",
    "print(type(3.14))\n",
    "print(type(\"string\"))\n",
    "print(type([\"cat\", \"dog\"]))\n",
    "print(type({\"food\": \"m&ms\", \"animal\": [\"cat\", \"dog\"]}))\n",
    "\n",
    "print(type((\"cat\", \"dog\")))\n",
    "print(type(set([\"cat\", \"dog\"])))"
   ]
  },
  {
   "source": [
    "#### Reading & writing files\n",
    "\n",
    "Use the python `open()` function to open files, can be used both to open files for reading and writing.\n",
    "\n",
    "\n",
    "`open(filename, mode)`\n"
   ],
   "cell_type": "markdown",
   "metadata": {}
  },
  {
   "cell_type": "code",
   "execution_count": 65,
   "metadata": {},
   "outputs": [
    {
     "output_type": "execute_result",
     "data": {
      "text/plain": [
       "'hgnc_id\\tsymbol\\tname\\nHGNC:5\\tA1BG\\talpha-1-B glycoprotein\\nHGNC:37133\\tA1BG-AS1\\tA1BG antisense RNA 1\\nHGNC:24086\\tA1CF\\tAPOBEC1 complementation factor\\nHGNC:7\\tA2M\\talpha-2-macroglobulin\\nHGNC:27057\\tA2M-AS1\\tA2M antisense RNA 1\\nHGNC:23336\\tA2ML1\\talpha-2-macroglobulin like 1\\nHGNC:41022\\tA2ML1-AS1\\tA2ML1 antisense RNA 1\\nHGNC:41523\\tA2ML1-AS2\\tA2ML1 antisense RNA 2\\nHGNC:8\\tA2MP1\\talpha-2-macroglobulin pseudogene 1\\nHGNC:30005\\tA3GALT2\\talpha 1,3-galactosyltransferase 2\\nHGNC:18149\\tA4GALT\\talpha 1,4-galactosyltransferase (P blood group)\\nHGNC:17968\\tA4GNT\\talpha-1,4-N-acetylglucosaminyltransferase\\nHGNC:13666\\tAAAS\\taladin WD repeat nucleoporin\\nHGNC:21298\\tAACS\\tacetoacetyl-CoA synthetase\\nHGNC:18226\\tAACSP1\\tacetoacetyl-CoA synthetase pseudogene 1\\nHGNC:17\\tAADAC\\tarylacetamide deacetylase\\n'"
      ]
     },
     "metadata": {},
     "execution_count": 65
    }
   ],
   "source": [
    "# open file and read all lines\n",
    "f = open('./example_file.tsv', 'r')\n",
    "f.read()"
   ]
  },
  {
   "cell_type": "code",
   "execution_count": 67,
   "metadata": {},
   "outputs": [
    {
     "output_type": "stream",
     "name": "stdout",
     "text": [
      "['hgnc_id\\tsymbol\\tname\\n', 'HGNC:5\\tA1BG\\talpha-1-B glycoprotein\\n', 'HGNC:37133\\tA1BG-AS1\\tA1BG antisense RNA 1\\n', 'HGNC:24086\\tA1CF\\tAPOBEC1 complementation factor\\n', 'HGNC:7\\tA2M\\talpha-2-macroglobulin\\n', 'HGNC:27057\\tA2M-AS1\\tA2M antisense RNA 1\\n', 'HGNC:23336\\tA2ML1\\talpha-2-macroglobulin like 1\\n', 'HGNC:41022\\tA2ML1-AS1\\tA2ML1 antisense RNA 1\\n', 'HGNC:41523\\tA2ML1-AS2\\tA2ML1 antisense RNA 2\\n', 'HGNC:8\\tA2MP1\\talpha-2-macroglobulin pseudogene 1\\n', 'HGNC:30005\\tA3GALT2\\talpha 1,3-galactosyltransferase 2\\n', 'HGNC:18149\\tA4GALT\\talpha 1,4-galactosyltransferase (P blood group)\\n', 'HGNC:17968\\tA4GNT\\talpha-1,4-N-acetylglucosaminyltransferase\\n', 'HGNC:13666\\tAAAS\\taladin WD repeat nucleoporin\\n', 'HGNC:21298\\tAACS\\tacetoacetyl-CoA synthetase\\n', 'HGNC:18226\\tAACSP1\\tacetoacetyl-CoA synthetase pseudogene 1\\n', 'HGNC:17\\tAADAC\\tarylacetamide deacetylase\\n']\n"
     ]
    },
    {
     "output_type": "execute_result",
     "data": {
      "text/plain": [
       "'HGNC:27057\\tA2M-AS1\\tA2M antisense RNA 1\\n'"
      ]
     },
     "metadata": {},
     "execution_count": 67
    }
   ],
   "source": [
    "# read specific line\n",
    "f = open('./example_file.tsv', 'r')\n",
    "f_lines = f.readlines() # read in all lines and store in f_lines variable\n",
    "f.close()\n",
    "\n",
    "# read just the 6th line\n",
    "f_lines[5]"
   ]
  },
  {
   "cell_type": "code",
   "execution_count": 68,
   "metadata": {},
   "outputs": [
    {
     "output_type": "stream",
     "name": "stdout",
     "text": [
      "HGNC:7\tA2M\talpha-2-macroglobulin\n\nHGNC:27057\tA2M-AS1\tA2M antisense RNA 1\n\nHGNC:23336\tA2ML1\talpha-2-macroglobulin like 1\n\nHGNC:41022\tA2ML1-AS1\tA2ML1 antisense RNA 1\n\nHGNC:41523\tA2ML1-AS2\tA2ML1 antisense RNA 2\n\nHGNC:8\tA2MP1\talpha-2-macroglobulin pseudogene 1\n\n"
     ]
    }
   ],
   "source": [
    "# loop over file and read lines, allows to do operations on file as reading\n",
    "f = open('./example_file.tsv', 'r')\n",
    "for line in f:\n",
    "    if 'A2M' in line:\n",
    "        print(line)\n",
    "f.close()"
   ]
  },
  {
   "cell_type": "code",
   "execution_count": 69,
   "metadata": {},
   "outputs": [
    {
     "output_type": "stream",
     "name": "stdout",
     "text": [
      "       hgnc_id     symbol                                             name\n0       HGNC:5       A1BG                           alpha-1-B glycoprotein\n1   HGNC:37133   A1BG-AS1                             A1BG antisense RNA 1\n2   HGNC:24086       A1CF                   APOBEC1 complementation factor\n3       HGNC:7        A2M                            alpha-2-macroglobulin\n4   HGNC:27057    A2M-AS1                              A2M antisense RNA 1\n5   HGNC:23336      A2ML1                     alpha-2-macroglobulin like 1\n6   HGNC:41022  A2ML1-AS1                            A2ML1 antisense RNA 1\n7   HGNC:41523  A2ML1-AS2                            A2ML1 antisense RNA 2\n8       HGNC:8      A2MP1               alpha-2-macroglobulin pseudogene 1\n9   HGNC:30005    A3GALT2                alpha 1,3-galactosyltransferase 2\n10  HGNC:18149     A4GALT  alpha 1,4-galactosyltransferase (P blood group)\n11  HGNC:17968      A4GNT        alpha-1,4-N-acetylglucosaminyltransferase\n12  HGNC:13666       AAAS                     aladin WD repeat nucleoporin\n13  HGNC:21298       AACS                       acetoacetyl-CoA synthetase\n14  HGNC:18226     AACSP1          acetoacetyl-CoA synthetase pseudogene 1\n15     HGNC:17      AADAC                        arylacetamide deacetylase\n"
     ]
    }
   ],
   "source": [
    "# use of with statement automatically closes file\n",
    "with open('./example_file.tsv') as f:\n",
    "    # read file into a Pandas dataframe\n",
    "    df = pd.read_csv(f, sep='\\t')\n",
    "\n",
    "print(df)\n"
   ]
  },
  {
   "cell_type": "code",
   "execution_count": 70,
   "metadata": {},
   "outputs": [],
   "source": [
    "# open a new file, use 'w' mode to write to file\n",
    "f = open('./output/new_example_file.txt', 'w')\n",
    "f.write('line1\\n')\n",
    "f.close()"
   ]
  },
  {
   "cell_type": "code",
   "execution_count": 71,
   "metadata": {},
   "outputs": [],
   "source": [
    "# open file in 'a' mode to append to file, else it will be overwritten\n",
    "f = open('./output/new_example_file.txt', 'a')\n",
    "f.write('line2\\n')\n",
    "f.close()"
   ]
  },
  {
   "cell_type": "code",
   "execution_count": 72,
   "metadata": {},
   "outputs": [],
   "source": [
    "# many packages have their own functions for writing e.g. Pandas\n",
    "\n",
    "df.to_csv('./output/saved_df.tsv', sep='\\t')\n",
    "df.to_excel('./output/saved_df.xlsx')"
   ]
  },
  {
   "source": [
    "#### Passing Arguments\n",
    "\n",
    "Standard python module - `sys.argv()`\n",
    "    - allows for passing cmd line arguments into script by position, i.e.:\n",
    "\n",
    "        - `python my_script.py file1 file2 file3` =>\n",
    "        \n",
    "            - sys.argv[0] = file1\n",
    "            - sys.argv[1] = file2\n",
    "            - sys.argv[2] = file3\n",
    "\n",
    "Also can use the `argparse` package, useful to build user friendly cmd line argument passing, handles things such as help / user messages and handles errors for improperly passed arguments etc.\n",
    "\n",
    "`import argparse`\n",
    "\n",
    "`parser = argparse.ArgumentParser(description='Script to do a thing')`\n",
    "\n",
    "`parser.add_argument(\"--file1\", help=\"arg for file1\", required=True)`\n",
    "\n",
    "`parser.add_argument(\"--file2\", help=\"arg for file2\", required=False)`\n",
    "\n",
    "`my_args = parse.parse_args`\n",
    "\n",
    "Can accept many options for each arg, e.g.: type, nargs, default, action etc. \n",
    "\n",
    "docs: https://docs.python.org/3/howto/argparse.html\n",
    "\n",
    "\n",
    "\n",
    "\n"
   ],
   "cell_type": "markdown",
   "metadata": {}
  },
  {
   "source": [
    "#### Building Functions\n",
    "\n",
    "Functions in python are defined first with `def()`, block of code when run that can be passed arguments and return results"
   ],
   "cell_type": "markdown",
   "metadata": {}
  },
  {
   "cell_type": "code",
   "execution_count": null,
   "metadata": {},
   "outputs": [],
   "source": [
    "def read_file(file_to_open):\n",
    "    with open(file_to_open) as f:\n",
    "        df = pd.read_csv(f, sep='\\t')\n",
    "\n",
    "    return df"
   ]
  },
  {
   "cell_type": "code",
   "execution_count": 73,
   "metadata": {},
   "outputs": [
    {
     "output_type": "stream",
     "name": "stdout",
     "text": [
      "       hgnc_id     symbol                                             name\n0       HGNC:5       A1BG                           alpha-1-B glycoprotein\n1   HGNC:37133   A1BG-AS1                             A1BG antisense RNA 1\n2   HGNC:24086       A1CF                   APOBEC1 complementation factor\n3       HGNC:7        A2M                            alpha-2-macroglobulin\n4   HGNC:27057    A2M-AS1                              A2M antisense RNA 1\n5   HGNC:23336      A2ML1                     alpha-2-macroglobulin like 1\n6   HGNC:41022  A2ML1-AS1                            A2ML1 antisense RNA 1\n7   HGNC:41523  A2ML1-AS2                            A2ML1 antisense RNA 2\n8       HGNC:8      A2MP1               alpha-2-macroglobulin pseudogene 1\n9   HGNC:30005    A3GALT2                alpha 1,3-galactosyltransferase 2\n10  HGNC:18149     A4GALT  alpha 1,4-galactosyltransferase (P blood group)\n11  HGNC:17968      A4GNT        alpha-1,4-N-acetylglucosaminyltransferase\n12  HGNC:13666       AAAS                     aladin WD repeat nucleoporin\n13  HGNC:21298       AACS                       acetoacetyl-CoA synthetase\n14  HGNC:18226     AACSP1          acetoacetyl-CoA synthetase pseudogene 1\n15     HGNC:17      AADAC                        arylacetamide deacetylase\n"
     ]
    }
   ],
   "source": [
    "df = read_file('./example_file.tsv')\n",
    "print(df)"
   ]
  },
  {
   "source": [
    "Key things for a good function:\n",
    "\n",
    "- does one 'thing'\n",
    "- sensibily named, often useful to begin with an adjective (i.e. read, get, split etc.)\n",
    "- verbose names are better than abbreviated\n",
    "- use when doing the same thing repeatedly (i.e. a calculation or filtering data etc.)\n",
    "- docstrings"
   ],
   "cell_type": "markdown",
   "metadata": {}
  },
  {
   "cell_type": "code",
   "execution_count": null,
   "metadata": {},
   "outputs": [],
   "source": [
    "def get_sample_id(name):\n",
    "    if '_' in name:\n",
    "        sample_id = name.split('_')[0]\n",
    "        print(f'Sample id is: {sample_id}')\n",
    "        return sample_id\n",
    "    else:\n",
    "        print('Given name does not contain \"_\"')\n",
    "        return\n"
   ]
  },
  {
   "cell_type": "code",
   "execution_count": 74,
   "metadata": {},
   "outputs": [
    {
     "output_type": "stream",
     "name": "stdout",
     "text": [
      "Sample id is: sample1\n"
     ]
    }
   ],
   "source": [
    "name = \"sample1_abc_123\"\n",
    "sample_id = get_sample_id(name)\n"
   ]
  },
  {
   "cell_type": "code",
   "execution_count": 76,
   "metadata": {},
   "outputs": [
    {
     "output_type": "stream",
     "name": "stdout",
     "text": [
      "Given name does not contain \"_\"\n"
     ]
    }
   ],
   "source": [
    "name = 'somethingElse'\n",
    "sample_id = get_sample_id(name)"
   ]
  },
  {
   "source": [
    "#### Docstrings & comments\n",
    "\n",
    "Use to make code understandable and more readable,  use pairs of triple quotes for docstring and \\# for comments\n",
    "\n",
    "Code should be written to be readable on it's own, but comments can help for more complex functions and / or rationale of why something is being done\n",
    "i.e. "
   ],
   "cell_type": "markdown",
   "metadata": {}
  },
  {
   "cell_type": "code",
   "execution_count": null,
   "metadata": {},
   "outputs": [],
   "source": [
    "def read_file(file_to_open):\n",
    "    \"\"\"\n",
    "    Reads in given file to Pandas dataframe\n",
    "\n",
    "    Args:\n",
    "        - file_to_open (str): path to file to read in\n",
    "    \n",
    "    Returns:    \n",
    "        - df (df): DataFrame of data in given file\n",
    "    \"\"\"\n",
    "    with open(file_to_open) as f:\n",
    "        df = pd.read_csv(f, sep='\\t')\n",
    " \n",
    "    return df"
   ]
  },
  {
   "source": [
    "#### Styling & Good Practices\n",
    "\n",
    "PEP8 style guide: http://www.python.org/dev/peps/pep-0008/\n",
    "\n",
    "Easiest to use a linter extension to IDE, will automatically highlight most issues\n",
    "\n",
    "Things to follow:\n",
    "\n",
    "- variables, functions, methods: `lower_case_with_underscores`\n",
    "- classes: `classesAsCamelCase`\n",
    "- consistent use of spaces between lines and functions etc.\n",
    "- **No single character variables** except in very short blocks, i.e.:\n",
    "\n",
    "&nbsp;&nbsp;&nbsp;&nbsp;`for i in range(0, 10):`\n",
    "\n",
    "&nbsp;&nbsp;&nbsp;&nbsp;&nbsp;&nbsp;&nbsp;&nbsp;`print(i)`\n",
    "\n",
    "- better to be more verbose in naming to make it easier to read\n",
    "\n",
    "- limit line length:\n",
    "    - comments/doc strings 72 characters, code 79 (doesn't have to be strict if makes it less readable)\n",
    "    - adding rulers in IDE makes this easier to follow\n",
    "    - can split strings in different ways, preffered is to use parentheses:\n",
    "\n",
    "&nbsp;&nbsp;&nbsp;&nbsp;`long_string = (`\n",
    "    \n",
    "&nbsp;&nbsp;&nbsp;&nbsp;&nbsp;&nbsp;&nbsp;&nbsp;`\"this is a really really really really really really really \"`\n",
    "\n",
    "&nbsp;&nbsp;&nbsp;&nbsp;&nbsp;&nbsp;&nbsp;&nbsp;`\"really really really really really long string\"`\n",
    "\n",
    "&nbsp;&nbsp;&nbsp;&nbsp;`)`\n",
    "\n",
    "- formatting strings using f-strings to add in variables: https://www.python.org/dev/peps/pep-0498/\n",
    "\n",
    "    ```\n",
    "    name='John'\n",
    "    formatted_string = f\"His name is {name}\"\n",
    "    ```\n",
    "\n",
    "\n",
    "- add single line doc strings for simple/obvious functions\n",
    "- multi line with args/returns/outputs for more complex, can also include short usage if appropriate\n",
    "- prefer code being readable over lots of comments\n",
    "\n",
    "- using `__name__` global variable:\n",
    "    - `if __name__ == __main__:` used to define what to run when the script is called\n",
    "    - typically all code should be in functions, then the functions called in this section\n",
    "    - https://docs.python.org/3/library/__main__.html\n",
    "\n",
    "- other global variables:\n",
    "    - generally should **not** use globals => variables defined outside of functions (in global scope)\n",
    "    - these are bad pratice as can cause conflicts and make it difficult to identify errors, unexpected side effects etc\n",
    "    - exception are constansts which should be `ALWAYS_CAPITALISED`\n",
    "    - constants are a type of variable that can't be changed, normally defined in a file then imported (i.e. for tokens):\n",
    "\n",
    "&nbsp;&nbsp;&nbsp;&nbsp;token.py:\n",
    "\n",
    "&nbsp;&nbsp;&nbsp;&nbsp;```AUTH_TOKEN = 'XXXXXX'```\n",
    "\n",
    "\n",
    "&nbsp;&nbsp;&nbsp;&nbsp;my_script.py:\n",
    "\n",
    "&nbsp;&nbsp;&nbsp;&nbsp;```from token import AUTH_TOKEN```\n",
    "\n",
    "\n"
   ],
   "cell_type": "markdown",
   "metadata": {}
  },
  {
   "source": [
    "#### Example (relatively) short scripts:\n",
    "\n",
    "- https://github.com/eastgenomics/eggd_generate_bed/blob/master/resources/home/dnanexus/generate_bed.py\n",
    "- https://github.com/eastgenomics/dx_job_monitor/blob/main/dx_job_monitor.py\n",
    "- https://github.com/eastgenomics/hermes/blob/main/hermes.py\n",
    "- https://github.com/eastgenomics/athena/blob/master/bin/coverage_stats_single.py\n",
    "- https://github.com/Addy81/BroadWork/blob/master/bin/2.hap.py-analysis.ipynb"
   ],
   "cell_type": "markdown",
   "metadata": {}
  },
  {
   "source": [
    "#### Useful resources\n",
    "- common useful functions with worked examples: https://www.w3schools.com/python/python_ref_functions.asp\n",
    "- StackOverflow, W3schools, learnpython.org, docs.python.org, realpython\n",
    "\n",
    "Books:\n",
    "- Learn Python the Hard Way\n",
    "    - Lots of exercises, teaches Python through doing lots of coding practice\n",
    "    - https://www.valeacademy.org.uk/documents/download/5e7e0291-cfa4-4f7e-84af-64cf0a01017d.pdf\n",
    "- Think Python\n",
    "    - Separate chapters covering core concepts, some examples & mini projects to practice\n",
    "    - https://greenteapress.com/wp/think-python/\n",
    "- Automate the Boring Stuff:\n",
    "    - Lots of projects, good for learning how to put things together\n",
    "    - https://automatetheboringstuff.com/\n",
    "    "
   ],
   "cell_type": "markdown",
   "metadata": {}
  }
 ],
 "metadata": {
  "kernelspec": {
   "display_name": "Python 3",
   "language": "python",
   "name": "python3"
  },
  "language_info": {
   "codemirror_mode": {
    "name": "ipython",
    "version": 3
   },
   "file_extension": ".py",
   "mimetype": "text/x-python",
   "name": "python",
   "nbconvert_exporter": "python",
   "pygments_lexer": "ipython3",
   "version": "3.8.5-final"
  }
 },
 "nbformat": 4,
 "nbformat_minor": 2
}