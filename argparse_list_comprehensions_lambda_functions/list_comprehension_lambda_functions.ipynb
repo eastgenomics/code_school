{
 "metadata": {
  "language_info": {
   "codemirror_mode": {
    "name": "ipython",
    "version": 3
   },
   "file_extension": ".py",
   "mimetype": "text/x-python",
   "name": "python",
   "nbconvert_exporter": "python",
   "pygments_lexer": "ipython3",
   "version": "3.8.5-final"
  },
  "orig_nbformat": 2,
  "kernelspec": {
   "name": "python3",
   "display_name": "Python 3.8.5 64-bit",
   "metadata": {
    "interpreter": {
     "hash": "31f2aee4e71d21fbe5cf8b01ff0e069b9275f58929596ceb00d14d90e3e16cd6"
    }
   }
  }
 },
 "nbformat": 4,
 "nbformat_minor": 2,
 "cells": [
  {
   "source": [
    "# Lambda functions\n",
    "\n",
    "Lambda functions are anonymous functions basically"
   ],
   "cell_type": "markdown",
   "metadata": {}
  },
  {
   "cell_type": "code",
   "execution_count": 1,
   "metadata": {},
   "outputs": [
    {
     "output_type": "execute_result",
     "data": {
      "text/plain": [
       "20"
      ]
     },
     "metadata": {},
     "execution_count": 1
    }
   ],
   "source": [
    "def f(x):\n",
    "    return x + 10\n",
    "\n",
    "f(10)"
   ]
  },
  {
   "cell_type": "code",
   "execution_count": 2,
   "metadata": {},
   "outputs": [
    {
     "output_type": "execute_result",
     "data": {
      "text/plain": [
       "20"
      ]
     },
     "metadata": {},
     "execution_count": 2
    }
   ],
   "source": [
    "x = lambda x: x + 10\n",
    "x(10)"
   ]
  },
  {
   "cell_type": "code",
   "execution_count": 3,
   "metadata": {},
   "outputs": [
    {
     "output_type": "execute_result",
     "data": {
      "text/plain": [
       "13"
      ]
     },
     "metadata": {},
     "execution_count": 3
    }
   ],
   "source": [
    "x(3)"
   ]
  },
  {
   "source": [
    "### Most common use case (for me at least)"
   ],
   "cell_type": "markdown",
   "metadata": {}
  },
  {
   "cell_type": "code",
   "execution_count": 9,
   "metadata": {},
   "outputs": [
    {
     "output_type": "execute_result",
     "data": {
      "text/plain": [
       "['panel2', 'panel3', 'panel4', 'panel1']"
      ]
     },
     "metadata": {},
     "execution_count": 9
    }
   ],
   "source": [
    "l = {\n",
    "    \"panel1\": 3435,\n",
    "    \"panel2\": 344,\n",
    "    \"panel3\": 406,\n",
    "    \"panel4\": 2005\n",
    "}\n",
    "\n",
    "sorted(l, key=lambda x: l[x])"
   ]
  },
  {
   "source": [
    "#### Real use case\n",
    "\n",
    "For generating genepanels and manifest files, I wanted them to be sorted by panel for genepanels and sample id for the manifest.\n",
    "\n",
    "```python\n",
    "# data is stored like this for genepanels: (panel name, version, gene)\n",
    "sorted_output_data = sorted(output_data, key=lambda x: (x[0], x[2]))\n",
    "\n",
    "# data is stored like this for manifest: (sample, clinical indication, panel, gene)\n",
    "sorted_output_data = sorted(output_data, key=lambda x: (x[0], x[3]))\n",
    "```"
   ],
   "cell_type": "markdown",
   "metadata": {}
  },
  {
   "source": [
    "# List comprehensions\n",
    "\n",
    "List comprehensions are just another syntax for for loops in Python.\n",
    "\n",
    "They are usually used for quick and dirty filtering/modifications of iterables. Anything more complex should really be a real for loop to help with readability."
   ],
   "cell_type": "markdown",
   "metadata": {}
  },
  {
   "cell_type": "code",
   "execution_count": 19,
   "metadata": {},
   "outputs": [
    {
     "output_type": "execute_result",
     "data": {
      "text/plain": [
       "[5, 6, 7, 8, 9, 10]"
      ]
     },
     "metadata": {},
     "execution_count": 19
    }
   ],
   "source": [
    "l = [1, 2, 3, 4, 5, 6, 7, 8, 9, 10]\n",
    "[nb for nb in l if nb >= 5]"
   ]
  },
  {
   "cell_type": "code",
   "execution_count": 20,
   "metadata": {},
   "outputs": [
    {
     "output_type": "execute_result",
     "data": {
      "text/plain": [
       "[5, 6, 7, 8, 9, 10]"
      ]
     },
     "metadata": {},
     "execution_count": 20
    }
   ],
   "source": [
    "output = []\n",
    "for nb in l:\n",
    "    if nb >= 5:\n",
    "        output.append(nb)\n",
    "output"
   ]
  },
  {
   "cell_type": "code",
   "execution_count": 21,
   "metadata": {},
   "outputs": [
    {
     "output_type": "execute_result",
     "data": {
      "text/plain": [
       "'Yujin The Perl Guy'"
      ]
     },
     "metadata": {},
     "execution_count": 21
    }
   ],
   "source": [
    "l = [\"yujin\", \"the\", \"perl\", \"guy\"]\n",
    "\" \".join([ele.capitalize() for ele in l])"
   ]
  },
  {
   "cell_type": "code",
   "execution_count": 22,
   "metadata": {},
   "outputs": [
    {
     "output_type": "execute_result",
     "data": {
      "text/plain": [
       "'Yujin The Perl Guy'"
      ]
     },
     "metadata": {},
     "execution_count": 22
    }
   ],
   "source": [
    "output = []\n",
    "for ele in l:\n",
    "    output.append(ele.capitalize())\n",
    "\" \".join(output)"
   ]
  },
  {
   "cell_type": "code",
   "execution_count": 25,
   "metadata": {},
   "outputs": [
    {
     "output_type": "execute_result",
     "data": {
      "text/plain": [
       "[('blarg', 1), ('blarb', 2), ('blourg', 3)]"
      ]
     },
     "metadata": {},
     "execution_count": 25
    }
   ],
   "source": [
    "l1 = [\"blarg\", \"blarb\", \"blourg\"]\n",
    "l2 = [1, 2, 3]\n",
    "\n",
    "[(ele1, ele2) for ele1, ele2 in zip(l1, l2)]"
   ]
  },
  {
   "cell_type": "code",
   "execution_count": 26,
   "metadata": {},
   "outputs": [
    {
     "output_type": "execute_result",
     "data": {
      "text/plain": [
       "[('blarg', 1), ('blarb', 2), ('blourg', 3)]"
      ]
     },
     "metadata": {},
     "execution_count": 26
    }
   ],
   "source": [
    "output = []\n",
    "for ele1, ele2 in zip(l1, l2):\n",
    "    output.append((ele1, ele2))\n",
    "output"
   ]
  },
  {
   "source": [
    "## You can also create dictionaries like that!"
   ],
   "cell_type": "markdown",
   "metadata": {}
  },
  {
   "cell_type": "code",
   "execution_count": 1,
   "metadata": {},
   "outputs": [
    {
     "output_type": "execute_result",
     "data": {
      "text/plain": [
       "{'a': 2, 'b': 4, 'c': 6, 'd': 8, 'e': 10}"
      ]
     },
     "metadata": {},
     "execution_count": 1
    }
   ],
   "source": [
    "dict1 = {'a': 1, 'b': 2, 'c': 3, 'd': 4, 'e': 5}\n",
    "# Double each value in the dictionary\n",
    "{k: v * 2 for k, v in dict1.items()}\n"
   ]
  },
  {
   "source": [
    "## You can also create sets like that"
   ],
   "cell_type": "markdown",
   "metadata": {}
  },
  {
   "cell_type": "code",
   "execution_count": 1,
   "metadata": {},
   "outputs": [
    {
     "output_type": "execute_result",
     "data": {
      "text/plain": [
       "{1, 2, 3}"
      ]
     },
     "metadata": {},
     "execution_count": 1
    }
   ],
   "source": [
    "l = [1, 2, 3, 1]\n",
    "{nb for nb in l}"
   ]
  }
 ]
}