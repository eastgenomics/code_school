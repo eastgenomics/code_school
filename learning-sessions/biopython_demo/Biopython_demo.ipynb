{
 "cells": [
  {
   "attachments": {},
   "cell_type": "markdown",
   "metadata": {},
   "source": [
    "# Biopython Intro\n",
    "\n",
    "## What does Biopython do?\n",
    "\n",
    "* Biopython is a Python library for handling genomics (and some other omics) tasks in Python.\n",
    "* Some of these can be useful for writing Jupyter notebooks or other Python reporting\n",
    "* Some are less useful for us but are used in allied fields - e.g. bacteriology\n",
    "\n",
    "I'll cover some of the more relevant tasks, but it's good to know about other functionalities, in case you end up needing them for papers.\n",
    "   \n",
    "* Most of the documentation is in the tutorial and cookbook: http://biopython.org/DIST/docs/tutorial/Tutorial.html​\n",
    "* But for SeqIO and some other objects I find it easy to use the wiki, linked here: https://biopython.org/wiki/Documentation \n",
    "\n",
    "\n",
    "### Some handy Biopython functionality\n",
    "\n",
    "* Parsers, converters writers for FASTAs and other data formats​\n",
    "* Calling Entrez and parse results\n",
    "* Sequence-level tasks: translate, reverse-transcribe​\n",
    "* Wrappers for calling local and online BLAST and some common aligners​\n",
    "\n",
    "### Could be useful for some papers and reports?\n",
    "\n",
    "* Graphics, including chromosome drawing​\n",
    "\n",
    "### More niche, but interesting\n",
    "\n",
    "* Population genetics and phylogenomics​\n",
    "* Motif detection, kmer-based analyses, and some supervised learning bits and bobs\n",
    "* Modules for handling crystal structures of biological macromolecules​\n",
    "\n",
    "## Imports\n",
    "\n",
    "Biopython can be installed with pip or conda.\n",
    "It gets imported as 'Bio'.\n",
    "\n",
    "## Setting up this notebook\n",
    "1. Make a copy of 'biopython.config.template' in the 'biopython' directory, and rename your copy to 'biopython.config'. This is in '.gitignore' so you should be able to add your config details without it accidentally git adding/committing.\n",
    "2. Set YOUR_EMAIL in 'biopython.config' to equal your work email address - it will be used to query NCBI.\n",
    "3. Set PARENT_PATH in 'biopython.config' to equal where your example data is kept.\n",
    "4. Download NC_000009.12 as a FASTA from NCBI, and save it as \"NC_000009.12.fasta\" in your PARENT_PATH. "
   ]
  },
  {
   "cell_type": "code",
   "execution_count": 3,
   "metadata": {},
   "outputs": [],
   "source": [
    "from Bio import SeqIO\n",
    "from Bio.Seq import Seq\n",
    "from Bio import Entrez\n",
    "import time\n",
    "from pathlib import Path\n",
    "from configparser import ConfigParser\n",
    "\n",
    "config = ConfigParser(allow_no_value=True)\n",
    "config.read('./biopython.config')\n",
    "\n",
    "\n",
    "YOUR_EMAIL = config[\"config\"][\"YOUR_EMAIL\"]\n",
    "PARENT_PATH = config[\"config\"][\"PARENT_PATH\"]"
   ]
  },
  {
   "attachments": {},
   "cell_type": "markdown",
   "metadata": {},
   "source": [
    "## Parsing\n",
    "\n",
    "#### FASTA\n",
    "Biopython lets you easily open and parse a lot of common bioinformatics file types, including FASTAs. For FASTA files, the '>' line gets parsed as 'id', and the line after it is parsed as 'seq'. For example, for an ABL1 sequence downloaded from NCBI:"
   ]
  },
  {
   "cell_type": "code",
   "execution_count": 4,
   "metadata": {},
   "outputs": [
    {
     "ename": "FileNotFoundError",
     "evalue": "[Errno 2] No such file or directory: '\"/home/corbin/Documents/Code school/Biopython/\"NC_000009.12.fasta'",
     "output_type": "error",
     "traceback": [
      "\u001b[0;31m---------------------------------------------------------------------------\u001b[0m",
      "\u001b[0;31mFileNotFoundError\u001b[0m                         Traceback (most recent call last)",
      "Cell \u001b[0;32mIn[4], line 4\u001b[0m\n\u001b[1;32m      1\u001b[0m parent_path \u001b[39m=\u001b[39m PARENT_PATH\n\u001b[1;32m      2\u001b[0m abl1_path \u001b[39m=\u001b[39m parent_path \u001b[39m+\u001b[39m \u001b[39m\"\u001b[39m\u001b[39mNC_000009.12.fasta\u001b[39m\u001b[39m\"\u001b[39m\n\u001b[0;32m----> 4\u001b[0m \u001b[39mfor\u001b[39;00m record \u001b[39min\u001b[39;00m SeqIO\u001b[39m.\u001b[39;49mparse(abl1_path, \u001b[39m\"\u001b[39;49m\u001b[39mfasta\u001b[39;49m\u001b[39m\"\u001b[39;49m):\n\u001b[1;32m      5\u001b[0m     \u001b[39mprint\u001b[39m(record\u001b[39m.\u001b[39mid)\n\u001b[1;32m      6\u001b[0m     \u001b[39mprint\u001b[39m(record\u001b[39m.\u001b[39mseq)\n",
      "File \u001b[0;32m~/envs/fus_notebook/lib/python3.9/site-packages/Bio/SeqIO/__init__.py:605\u001b[0m, in \u001b[0;36mparse\u001b[0;34m(handle, format, alphabet)\u001b[0m\n\u001b[1;32m    603\u001b[0m iterator_generator \u001b[39m=\u001b[39m _FormatToIterator\u001b[39m.\u001b[39mget(\u001b[39mformat\u001b[39m)\n\u001b[1;32m    604\u001b[0m \u001b[39mif\u001b[39;00m iterator_generator:\n\u001b[0;32m--> 605\u001b[0m     \u001b[39mreturn\u001b[39;00m iterator_generator(handle)\n\u001b[1;32m    606\u001b[0m \u001b[39mif\u001b[39;00m \u001b[39mformat\u001b[39m \u001b[39min\u001b[39;00m AlignIO\u001b[39m.\u001b[39m_FormatToIterator:\n\u001b[1;32m    607\u001b[0m     \u001b[39m# Use Bio.AlignIO to read in the alignments\u001b[39;00m\n\u001b[1;32m    608\u001b[0m     \u001b[39mreturn\u001b[39;00m (r \u001b[39mfor\u001b[39;00m alignment \u001b[39min\u001b[39;00m AlignIO\u001b[39m.\u001b[39mparse(handle, \u001b[39mformat\u001b[39m) \u001b[39mfor\u001b[39;00m r \u001b[39min\u001b[39;00m alignment)\n",
      "File \u001b[0;32m~/envs/fus_notebook/lib/python3.9/site-packages/Bio/SeqIO/FastaIO.py:223\u001b[0m, in \u001b[0;36mFastaIterator.__init__\u001b[0;34m(self, source, alphabet, title2ids)\u001b[0m\n\u001b[1;32m    204\u001b[0m     warnings\u001b[39m.\u001b[39mwarn(\n\u001b[1;32m    205\u001b[0m         \u001b[39m\"\u001b[39m\u001b[39mThe title2ids argument is deprecated. Instead, please use a \u001b[39m\u001b[39m\"\u001b[39m\n\u001b[1;32m    206\u001b[0m         \u001b[39m\"\u001b[39m\u001b[39mgenerator function to modify records returned by the parser. \u001b[39m\u001b[39m\"\u001b[39m\n\u001b[0;32m   (...)\u001b[0m\n\u001b[1;32m    220\u001b[0m         BiopythonDeprecationWarning,\n\u001b[1;32m    221\u001b[0m     )\n\u001b[1;32m    222\u001b[0m \u001b[39mself\u001b[39m\u001b[39m.\u001b[39mtitle2ids \u001b[39m=\u001b[39m title2ids\n\u001b[0;32m--> 223\u001b[0m \u001b[39msuper\u001b[39;49m()\u001b[39m.\u001b[39;49m\u001b[39m__init__\u001b[39;49m(source, mode\u001b[39m=\u001b[39;49m\u001b[39m\"\u001b[39;49m\u001b[39mt\u001b[39;49m\u001b[39m\"\u001b[39;49m, fmt\u001b[39m=\u001b[39;49m\u001b[39m\"\u001b[39;49m\u001b[39mFasta\u001b[39;49m\u001b[39m\"\u001b[39;49m)\n",
      "File \u001b[0;32m~/envs/fus_notebook/lib/python3.9/site-packages/Bio/SeqIO/Interfaces.py:45\u001b[0m, in \u001b[0;36mSequenceIterator.__init__\u001b[0;34m(self, source, alphabet, mode, fmt)\u001b[0m\n\u001b[1;32m     43\u001b[0m     \u001b[39mraise\u001b[39;00m \u001b[39mValueError\u001b[39;00m(\u001b[39m\"\u001b[39m\u001b[39mThe alphabet argument is no longer supported\u001b[39m\u001b[39m\"\u001b[39m)\n\u001b[1;32m     44\u001b[0m \u001b[39mtry\u001b[39;00m:\n\u001b[0;32m---> 45\u001b[0m     \u001b[39mself\u001b[39m\u001b[39m.\u001b[39mstream \u001b[39m=\u001b[39m \u001b[39mopen\u001b[39;49m(source, \u001b[39m\"\u001b[39;49m\u001b[39mr\u001b[39;49m\u001b[39m\"\u001b[39;49m \u001b[39m+\u001b[39;49m mode)\n\u001b[1;32m     46\u001b[0m     \u001b[39mself\u001b[39m\u001b[39m.\u001b[39mshould_close_stream \u001b[39m=\u001b[39m \u001b[39mTrue\u001b[39;00m\n\u001b[1;32m     47\u001b[0m \u001b[39mexcept\u001b[39;00m \u001b[39mTypeError\u001b[39;00m:  \u001b[39m# not a path, assume we received a stream\u001b[39;00m\n",
      "\u001b[0;31mFileNotFoundError\u001b[0m: [Errno 2] No such file or directory: '\"/home/corbin/Documents/Code school/Biopython/\"NC_000009.12.fasta'"
     ]
    }
   ],
   "source": [
    "parent_path = str(PARENT_PATH)\n",
    "abl1_path = parent_path + \"NC_000009.12.fasta\"\n",
    "\n",
    "for record in SeqIO.parse(abl1_path, \"fasta\"):\n",
    "    print(record.id)\n",
    "    print(record.seq)"
   ]
  },
  {
   "attachments": {},
   "cell_type": "markdown",
   "metadata": {},
   "source": [
    "If the file contained multiple FASTA sequences, the loop above would print all their IDs and sequences."
   ]
  },
  {
   "attachments": {},
   "cell_type": "markdown",
   "metadata": {},
   "source": [
    "#### FASTQ\n",
    "\n",
    "Biopython can parse FASTQ files, but make sure to choose the right parser. Note that FastQC has a PHRED encoding guesser which may help you if you aren't sure which PHRED version your file is using:\n",
    "- 'fastq' or 'fastq-sanger' - Sanger style FASTQ files, encodes PHRED with an ASCII offset of 33. Illumina pipeline 1.8 makes these.\n",
    "- 'fastq-illumina' - the OLD Illumina style of encoding PHRED, which differs slightly from the Sanger method! You may need to keep an eye on this for old Illumina data.\n",
    "- 'fastq-solexa' - ASCII offset of 64. We probably won't use these.\n",
    "\n",
    "#### Sanger ABI files\n",
    "* If you're feeling old-school and have Sanger data, you can use Biopython to open and manipulate ABI files, too."
   ]
  },
  {
   "attachments": {},
   "cell_type": "markdown",
   "metadata": {},
   "source": [
    "## Working with NCBI Entrez\n",
    "\n",
    "Biopython provides tools to help you get results from NCBI's Entrez, then parse and work with them. \n",
    "\n",
    "#### Don't annoy them\n",
    "* Make sure to provide your email, and keep the number of API queries at 3 queries per second or below, or 10 if you set an API key - NCBI can ban you if you keep spamming. \n",
    "* Note that in my code below, I set 'time.sleep(0.4)' to slow my code execution down. \n",
    "* Here I'm only running a single example so it isn't as important, but if you're looping through gene names, it might save you upsetting someone.\n",
    "\n",
    "\n",
    "#### Basic steps\n",
    "To query a database, you set 'db' to the correct database type (we're using 'gene') and put your search terms in 'term'. The returned XML is parsed by Biopython into an object. Below, I give an example of fetching the human ABL1 gene. The steps are:\n",
    "* Get IDs with 'esearch'\n",
    "* Use 'efetch' on those IDs to get the info we care about\n",
    "* Write information to a file\n",
    "\n",
    "Note that 'efetch' has a lot of return type, 'retmode', options. 'gb' brings back a Genbank style output which is easier to read for a human, but 'xml' is easier to parse with Python."
   ]
  },
  {
   "cell_type": "code",
   "execution_count": null,
   "metadata": {},
   "outputs": [
    {
     "name": "stdout",
     "output_type": "stream",
     "text": [
      "The returned object, without digging into it further\n",
      "{'Count': '1', 'RetMax': '1', 'RetStart': '0', 'IdList': ['25'], 'TranslationSet': [{'From': 'Homo sapiens[ORGN]', 'To': '\"Homo sapiens\"[Organism]'}], 'TranslationStack': [{'Term': 'ABL1[GENE]', 'Field': 'GENE', 'Count': '520', 'Explode': 'N'}, {'Term': '\"Homo sapiens\"[Organism]', 'Field': 'Organism', 'Count': '325491', 'Explode': 'Y'}, 'AND'], 'QueryTranslation': 'ABL1[GENE] AND \"Homo sapiens\"[Organism]'}\n",
      "\n",
      "The list of IDs found by eSearch:\n",
      "['25']\n",
      "\n",
      "If there's only one result - try to get its ID\n",
      "\n",
      "1. ABL1\n",
      "Official Symbol: ABL1 and Name: ABL proto-oncogene 1, non-receptor tyrosine kinase [Homo sapiens (human)]\n",
      "Other Aliases: ABL, BCR-ABL, CHDSKM, JTK7, bcr/abl, c-ABL, c-ABL1, p150, v-abl\n",
      "Other Designations: tyrosine-protein kinase ABL1; ABL protooncogene 1 nonreceptor tyrosine kinase; Abelson tyrosine-protein kinase 1; BCR-ABL1 p190; BCR/ABL e8a2 fusion; BCR/ABL1 e1a2 fusion protein; bcr/c-abl oncogene protein; c-abl oncogene 1, receptor tyrosine kinase; proto-oncogene c-Abl; proto-oncogene tyrosine-protein kinase ABL1; v-abl Abelson murine leukemia viral oncogene homolog 1\n",
      "Chromosome: 9; Location: 9q34.12\n",
      "Annotation: Chromosome 9 NC_000009.12 (130713043..130887675)\n",
      "MIM: 189980\n",
      "ID: 25\n",
      "\n",
      "\n",
      "\n",
      "Try to save the file locally if you'll use it later in your process, so that you aren't stressing NCBI servers\n",
      "Skipped file-saving as /home/corbin/Documents/Code school/Biopython/ABL1_example.gbk already exists\n"
     ]
    }
   ],
   "source": [
    "Entrez.email = YOUR_EMAIL\n",
    "handle = Entrez.esearch(db=\"gene\", term=\"ABL1[GENE] Homo sapiens[ORGN]\")\n",
    "time.sleep(0.4)\n",
    "record = Entrez.read(handle)\n",
    "\n",
    "print(\"The returned object, without digging into it further\")\n",
    "print(record)\n",
    "\n",
    "print(\"\\nThe list of IDs found by eSearch:\")\n",
    "print(record[\"IdList\"])\n",
    "\n",
    "print(\"\\nIf there's only one result - try to get its ID\")\n",
    "if record[\"Count\"] == \"1\":\n",
    "    esearch_id = int(record[\"IdList\"][0])\n",
    "    gb_handle = Entrez.efetch(db=\"gene\", rettype=\"gb\", retmode=\"txt\", id=esearch_id)\n",
    "    time.sleep(0.4)\n",
    "    print(gb_handle.read())\n",
    "    print(\"\\nTry to save the file locally if you'll use it later in your process, so that you aren't stressing NCBI servers\")\n",
    "    filename = parent_path + \"ABL1_example.gbk\"\n",
    "    filepath = Path(filename)\n",
    "    if not filepath.is_file():\n",
    "        with open(filename, \"w\") as out_handle:\n",
    "            out_handle.write(gb_handle.read())\n",
    "            print(\"Saved: \" + filename)\n",
    "    else:\n",
    "        print(\"Skipped file-saving as \" + str(filename) + \" already exists\")\n"
   ]
  },
  {
   "attachments": {},
   "cell_type": "markdown",
   "metadata": {},
   "source": [
    "## Working with sequences\n",
    "\n",
    "Biopython makes it quite easy to work with sequences. Below, as an example, we generate all possible amino acid sequences for ABL1, and select the largest one."
   ]
  },
  {
   "cell_type": "code",
   "execution_count": null,
   "metadata": {},
   "outputs": [
    {
     "name": "stdout",
     "output_type": "stream",
     "text": [
      "\n",
      "Longest amino acid sequence:\n",
      "SNVNTDLFKKYYRGQIWIQKKPQRIIYRNKMHWTPRSRGGATTGPRGGRAGRYAHAT\n"
     ]
    }
   ],
   "source": [
    "for record in SeqIO.parse(abl1_path, \"fasta\"):\n",
    "    possible_transcriptions = [record.seq, record.seq.reverse_complement()]\n",
    "    possible_aa_seqs = (transcript[i:].translate(to_stop=True) for i in range(3) for transcript in possible_transcriptions)\n",
    "    max_aa = max(possible_aa_seqs, key=len)\n",
    "    print(\"\\nLongest amino acid sequence:\")\n",
    "    print(max_aa)\n"
   ]
  }
 ],
 "metadata": {
  "kernelspec": {
   "display_name": "fus_notebook",
   "language": "python",
   "name": "python3"
  },
  "language_info": {
   "codemirror_mode": {
    "name": "ipython",
    "version": 3
   },
   "file_extension": ".py",
   "mimetype": "text/x-python",
   "name": "python",
   "nbconvert_exporter": "python",
   "pygments_lexer": "ipython3",
   "version": "3.9.12"
  },
  "orig_nbformat": 4
 },
 "nbformat": 4,
 "nbformat_minor": 2
}
