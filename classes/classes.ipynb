{
 "metadata": {
  "language_info": {
   "codemirror_mode": {
    "name": "ipython",
    "version": 3
   },
   "file_extension": ".py",
   "mimetype": "text/x-python",
   "name": "python",
   "nbconvert_exporter": "python",
   "pygments_lexer": "ipython3",
   "version": "3.6.10-final"
  },
  "orig_nbformat": 2,
  "kernelspec": {
   "name": "python3610jvsc74a57bd0447908a69afda8f9ec713b5f6b2b663f9ffd062b928b483ba3e2d897bf7d77bb",
   "display_name": "Python 3.6.10 64-bit ('miniconda3': conda)"
  }
 },
 "nbformat": 4,
 "nbformat_minor": 2,
 "cells": [
  {
   "source": [
    "# Classes\n",
    "\n",
    "Python can be used to object oriented programming (OOP) which is a programming paradigm which is going to use objects as opposed to what we've seen so far which is functionnal programming.\n",
    "Classes are the way to define objects in Python. Once you have defined your object, you can instantiate this object and store it, allowing you the bundle data and functionality from within the object.\n",
    "\n",
    "This can be very useful in a number of cases. Let's see how to make them work."
   ],
   "cell_type": "markdown",
   "metadata": {}
  },
  {
   "source": [
    "# here is how you define objects\n",
    "class Vehicule:\n",
    "    # you can define attributes so that they are present in every instance\n",
    "    purpose = \"transport\"\n",
    "\n",
    "    # functions in an object are called methods and \n",
    "    def get_purpose(self):\n",
    "        return self.purpose\n",
    "\n",
    "# the variable \"car\" is called an instance of the Vehicule object\n",
    "car = Vehicule()\n",
    "# to call the methods of an instance, do {instance}.{name_of_method}()\n",
    "car.get_purpose()"
   ],
   "cell_type": "code",
   "metadata": {},
   "execution_count": 7,
   "outputs": [
    {
     "output_type": "execute_result",
     "data": {
      "text/plain": [
       "'transport'"
      ]
     },
     "metadata": {},
     "execution_count": 7
    }
   ]
  },
  {
   "source": [
    "You can also pass parameters to your objects through a special method called `__init__`"
   ],
   "cell_type": "markdown",
   "metadata": {}
  },
  {
   "cell_type": "code",
   "execution_count": 6,
   "metadata": {},
   "outputs": [
    {
     "output_type": "stream",
     "name": "stdout",
     "text": [
      "This vehicule has 4 wheels\nThis vehicule has no wheels\n"
     ]
    }
   ],
   "source": [
    "class Vehicule:\n",
    "    # one parameter to define the number of wheels of the vehicule\n",
    "    def __init__(self, nb_wheels=None):\n",
    "        # store the nb_wheels variable has an ATTRIBUTE of the object\n",
    "        # nb_wheels and self.nb_wheels are not identical\n",
    "        self.nb_wheels = nb_wheels\n",
    "    \n",
    "    def print_if_wheels(self):\n",
    "        if self.nb_wheels:\n",
    "            print(f\"This vehicule has {self.nb_wheels} wheels\")\n",
    "        else:\n",
    "            print(\"This vehicule has no wheels\")\n",
    "\n",
    "car = Vehicule(nb_wheels=4)\n",
    "boat = Vehicule()\n",
    "car.print_if_wheels()\n",
    "boat.print_if_wheels()\n"
   ]
  },
  {
   "source": [
    "## Inheritance\n",
    "\n",
    "Inheritance is a concept of object allowing objects to inherit attributes or methods from specified classes."
   ],
   "cell_type": "markdown",
   "metadata": {}
  },
  {
   "cell_type": "code",
   "execution_count": 9,
   "metadata": {},
   "outputs": [
    {
     "output_type": "execute_result",
     "data": {
      "text/plain": [
       "'transport'"
      ]
     },
     "metadata": {},
     "execution_count": 9
    }
   ],
   "source": [
    "class Vehicule:\n",
    "    purpose = \"transport\"\n",
    "\n",
    "class Car(Vehicule):\n",
    "    nb_wheels = 4\n",
    "\n",
    "car = Car()\n",
    "car.purpose\n"
   ]
  },
  {
   "source": [
    "OOP should not be applied everywhere! Think about the \"design\" of the code that you are going to write before applying or not OOP.  \n",
    "That is one of the reason (i believe) that there are not a lot of OOP in the eastgenomics git.\n",
    "\n",
    "## Examples of OOP in EGG\n",
    "\n",
    "https://github.com/eastgenomics/AskGemini/blob/master/bin/count_variants.py  \n",
    "https://github.com/NHS-NGS/panelapp/blob/master/panelapp/Panelapp.py"
   ],
   "cell_type": "markdown",
   "metadata": {}
  }
 ]
}