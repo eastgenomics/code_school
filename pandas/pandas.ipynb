{
 "cells": [
  {
   "attachments": {},
   "cell_type": "markdown",
   "metadata": {},
   "source": [
    "# Introduction\n",
    "\n",
    "Pandas is Python package used for data manipulation and analysis. The name is derived from the term \"panel data\".\n",
    "\n",
    "To use pandas, you need to import it. And numpy is required as well.\n",
    "It is generally imported using `np` and `pd` as abbreviations."
   ]
  },
  {
   "cell_type": "code",
   "execution_count": 132,
   "metadata": {},
   "outputs": [],
   "source": [
    "import numpy as np\n",
    "import pandas as pd"
   ]
  },
  {
   "attachments": {},
   "cell_type": "markdown",
   "metadata": {},
   "source": [
    "# Pandas objects\n",
    "\n",
    "## Series\n",
    "\n",
    "- One dimensional array of indexed data\n",
    "- Can be used to convert a dictionary\n",
    "  - Like dictionaries, Series can be access using “keys” (index)\n",
    "  - Contrary to dictionaries, Series can be sliced"
   ]
  },
  {
   "cell_type": "code",
   "execution_count": 151,
   "metadata": {},
   "outputs": [
    {
     "name": "stdout",
     "output_type": "stream",
     "text": [
      "California    38332521\n",
      "Texas         26448193\n",
      "New York      19651127\n",
      "Florida       19552860\n",
      "Illinois      12882135\n",
      "dtype: int64\n"
     ]
    },
    {
     "data": {
      "text/plain": [
       "California    38332521\n",
       "Texas         26448193\n",
       "dtype: int64"
      ]
     },
     "execution_count": 151,
     "metadata": {},
     "output_type": "execute_result"
    }
   ],
   "source": [
    "population_dict = {'California': 38332521,\n",
    "                   'Texas': 26448193,\n",
    "                   'New York': 19651127,\n",
    "                   'Florida': 19552860,\n",
    "                   'Illinois': 12882135}\n",
    "population = pd.Series(population_dict)\n",
    "print(population)\n",
    "population[\"California\":\"Texas\"]"
   ]
  },
  {
   "attachments": {},
   "cell_type": "markdown",
   "metadata": {},
   "source": [
    "## Dataframes\n",
    "\n",
    "- Two dimensional array of indexed data but can be thought of as sequences of Series objects\n",
    "- 2 distinct Index objects will define the rows and the columns"
   ]
  },
  {
   "cell_type": "code",
   "execution_count": 134,
   "metadata": {},
   "outputs": [
    {
     "data": {
      "text/html": [
       "<div>\n",
       "<style scoped>\n",
       "    .dataframe tbody tr th:only-of-type {\n",
       "        vertical-align: middle;\n",
       "    }\n",
       "\n",
       "    .dataframe tbody tr th {\n",
       "        vertical-align: top;\n",
       "    }\n",
       "\n",
       "    .dataframe thead th {\n",
       "        text-align: right;\n",
       "    }\n",
       "</style>\n",
       "<table border=\"1\" class=\"dataframe\">\n",
       "  <thead>\n",
       "    <tr style=\"text-align: right;\">\n",
       "      <th></th>\n",
       "      <th>population</th>\n",
       "      <th>area</th>\n",
       "    </tr>\n",
       "  </thead>\n",
       "  <tbody>\n",
       "    <tr>\n",
       "      <th>California</th>\n",
       "      <td>38332521</td>\n",
       "      <td>423967</td>\n",
       "    </tr>\n",
       "    <tr>\n",
       "      <th>Texas</th>\n",
       "      <td>26448193</td>\n",
       "      <td>695662</td>\n",
       "    </tr>\n",
       "    <tr>\n",
       "      <th>New York</th>\n",
       "      <td>19651127</td>\n",
       "      <td>141297</td>\n",
       "    </tr>\n",
       "    <tr>\n",
       "      <th>Florida</th>\n",
       "      <td>19552860</td>\n",
       "      <td>170312</td>\n",
       "    </tr>\n",
       "    <tr>\n",
       "      <th>Illinois</th>\n",
       "      <td>12882135</td>\n",
       "      <td>149995</td>\n",
       "    </tr>\n",
       "  </tbody>\n",
       "</table>\n",
       "</div>"
      ],
      "text/plain": [
       "            population    area\n",
       "California    38332521  423967\n",
       "Texas         26448193  695662\n",
       "New York      19651127  141297\n",
       "Florida       19552860  170312\n",
       "Illinois      12882135  149995"
      ]
     },
     "execution_count": 134,
     "metadata": {},
     "output_type": "execute_result"
    }
   ],
   "source": [
    "area_dict = {'California': 423967, 'Texas': 695662, 'New York': 141297,\n",
    "             'Florida': 170312, 'Illinois': 149995}\n",
    "area = pd.Series(area_dict)\n",
    "\n",
    "states = pd.DataFrame({'population': population,\n",
    "                       'area': area})\n",
    "states"
   ]
  },
  {
   "attachments": {},
   "cell_type": "markdown",
   "metadata": {},
   "source": [
    "## Index\n",
    "\n",
    "- Immutable array used to index the Series and Dataframes object"
   ]
  },
  {
   "cell_type": "code",
   "execution_count": 135,
   "metadata": {},
   "outputs": [
    {
     "name": "stdout",
     "output_type": "stream",
     "text": [
      "Index(['California', 'Texas', 'New York', 'Florida', 'Illinois'], dtype='object')\n",
      "Index(['population', 'area'], dtype='object')\n",
      "<class 'pandas.core.indexes.base.Index'>\n",
      "<class 'pandas.core.indexes.base.Index'>\n"
     ]
    }
   ],
   "source": [
    "print(states.index)\n",
    "print(states.columns)\n",
    "print(type(states.index))\n",
    "print(type(states.columns))"
   ]
  },
  {
   "attachments": {},
   "cell_type": "markdown",
   "metadata": {},
   "source": [
    "# Import data\n",
    "\n",
    "In our setting, you are usually going to be importing data from a csv/tsv or an excel. And you chose pandas because the data structure is a bit too complex or it is just an easy way to quickly import it.\n",
    "In this session, i'll be taking you into a deep dive of the new test directory."
   ]
  },
  {
   "cell_type": "code",
   "execution_count": 136,
   "metadata": {},
   "outputs": [
    {
     "data": {
      "text/plain": [
       "dict_keys(['Explanatory note ', 'R&ID indications', 'Neuro STR routing'])"
      ]
     },
     "execution_count": 136,
     "metadata": {},
     "output_type": "execute_result"
    }
   ],
   "source": [
    "df = pd.read_excel(\"td_v5.xlsx\", sheet_name=None, header=1)\n",
    "df.keys()"
   ]
  },
  {
   "attachments": {},
   "cell_type": "markdown",
   "metadata": {},
   "source": [
    "In the previous command, I'm importing the test directory but i know that the excel has multiple sheets and by default the `read_excel` cmd will use the first sheet and discard the rest.\n",
    "The header option specifies which line is the header.\n",
    "\n",
    "https://pandas.pydata.org/docs/reference/api/pandas.read_excel.html"
   ]
  },
  {
   "cell_type": "code",
   "execution_count": 137,
   "metadata": {},
   "outputs": [
    {
     "data": {
      "text/html": [
       "<div>\n",
       "<style scoped>\n",
       "    .dataframe tbody tr th:only-of-type {\n",
       "        vertical-align: middle;\n",
       "    }\n",
       "\n",
       "    .dataframe tbody tr th {\n",
       "        vertical-align: top;\n",
       "    }\n",
       "\n",
       "    .dataframe thead th {\n",
       "        text-align: right;\n",
       "    }\n",
       "</style>\n",
       "<table border=\"1\" class=\"dataframe\">\n",
       "  <thead>\n",
       "    <tr style=\"text-align: right;\">\n",
       "      <th></th>\n",
       "      <th>Clinical indication ID</th>\n",
       "      <th>Test ID</th>\n",
       "      <th>Clinical Indication</th>\n",
       "      <th>Target/Genes</th>\n",
       "      <th>Test Method</th>\n",
       "      <th>Commissioning category</th>\n",
       "      <th>Specialist test group</th>\n",
       "      <th>Changes since October 2022 v4 publication</th>\n",
       "      <th>Single national provider</th>\n",
       "      <th>North East &amp; Yorkshire GLH</th>\n",
       "      <th>North West GLH</th>\n",
       "      <th>East GLH</th>\n",
       "      <th>Central &amp; South GLH</th>\n",
       "      <th>South West GLH</th>\n",
       "      <th>North Thames GLH</th>\n",
       "      <th>South East GLH</th>\n",
       "    </tr>\n",
       "  </thead>\n",
       "  <tbody>\n",
       "    <tr>\n",
       "      <th>0</th>\n",
       "      <td>R67</td>\n",
       "      <td>R67.1</td>\n",
       "      <td>Monogenic hearing loss</td>\n",
       "      <td>Hearing loss (126)</td>\n",
       "      <td>WES or Large Panel</td>\n",
       "      <td>Specialised</td>\n",
       "      <td>Audiology</td>\n",
       "      <td>Update to gene content via PanelApp route</td>\n",
       "      <td>No</td>\n",
       "      <td>North West GLH - Manchester University FT</td>\n",
       "      <td>North West GLH - Manchester University FT</td>\n",
       "      <td>North West GLH- Manchester University FT</td>\n",
       "      <td>North Thames GLH - Great Ormond Street FT</td>\n",
       "      <td>North Thames GLH - Great Ormond Street FT</td>\n",
       "      <td>North Thames GLH - Great Ormond Street FT</td>\n",
       "      <td>North Thames GLH - Great Ormond Street FT</td>\n",
       "    </tr>\n",
       "    <tr>\n",
       "      <th>1</th>\n",
       "      <td>R67</td>\n",
       "      <td>R67.2</td>\n",
       "      <td>Monogenic hearing loss</td>\n",
       "      <td>Hearing loss (126)</td>\n",
       "      <td>MLPA or equivalent</td>\n",
       "      <td>Specialised</td>\n",
       "      <td>Audiology</td>\n",
       "      <td>No change</td>\n",
       "      <td>No</td>\n",
       "      <td>North West GLH - Manchester University FT</td>\n",
       "      <td>North West GLH - Manchester University FT</td>\n",
       "      <td>North West GLH- Manchester University FT</td>\n",
       "      <td>North Thames GLH - Great Ormond Street FT</td>\n",
       "      <td>North Thames GLH - Great Ormond Street FT</td>\n",
       "      <td>North Thames GLH - Great Ormond Street FT</td>\n",
       "      <td>North Thames GLH - Great Ormond Street FT</td>\n",
       "    </tr>\n",
       "    <tr>\n",
       "      <th>2</th>\n",
       "      <td>R125</td>\n",
       "      <td>R125.1</td>\n",
       "      <td>Thoracic aortic aneurysm or dissection</td>\n",
       "      <td>Thoracic aortic aneurysm or dissection (700)</td>\n",
       "      <td>WES or Medium Panel</td>\n",
       "      <td>Specialised</td>\n",
       "      <td>Cardiology</td>\n",
       "      <td>Update to gene content via PanelApp route</td>\n",
       "      <td>No</td>\n",
       "      <td>North West GLH - Manchester University FT</td>\n",
       "      <td>North West GLH - Manchester University FT</td>\n",
       "      <td>South West GLH - North Bristol Trust</td>\n",
       "      <td>Central and South GLH - Salisbury FT</td>\n",
       "      <td>South West GLH - North Bristol Trust</td>\n",
       "      <td>South East GLH - Royal Brompton and Harefield FT</td>\n",
       "      <td>South East GLH - Royal Brompton and Harefield FT</td>\n",
       "    </tr>\n",
       "    <tr>\n",
       "      <th>3</th>\n",
       "      <td>R125</td>\n",
       "      <td>R125.2</td>\n",
       "      <td>Thoracic aortic aneurysm or dissection</td>\n",
       "      <td>Thoracic aortic aneurysm or dissection (700)</td>\n",
       "      <td>MLPA or equivalent</td>\n",
       "      <td>Specialised</td>\n",
       "      <td>Cardiology</td>\n",
       "      <td>No change</td>\n",
       "      <td>No</td>\n",
       "      <td>North West GLH - Manchester University FT</td>\n",
       "      <td>North West GLH - Manchester University FT</td>\n",
       "      <td>South West GLH - North Bristol Trust</td>\n",
       "      <td>Central and South GLH - Salisbury FT</td>\n",
       "      <td>South West GLH - North Bristol Trust</td>\n",
       "      <td>South East GLH - Royal Brompton and Harefield FT</td>\n",
       "      <td>South East GLH - Royal Brompton and Harefield FT</td>\n",
       "    </tr>\n",
       "    <tr>\n",
       "      <th>4</th>\n",
       "      <td>R127</td>\n",
       "      <td>R127.1</td>\n",
       "      <td>Long QT syndrome</td>\n",
       "      <td>Long QT syndrome (76)</td>\n",
       "      <td>Small panel</td>\n",
       "      <td>Specialised</td>\n",
       "      <td>Cardiology</td>\n",
       "      <td>No change</td>\n",
       "      <td>No</td>\n",
       "      <td>North West GLH - Manchester University FT</td>\n",
       "      <td>North West GLH - Manchester University FT</td>\n",
       "      <td>South West GLH - North Bristol Trust</td>\n",
       "      <td>Central and South GLH - Oxford University FT</td>\n",
       "      <td>South West GLH - North Bristol Trust</td>\n",
       "      <td>South East GLH - Royal Brompton and Harefield FT</td>\n",
       "      <td>South East GLH - Royal Brompton and Harefield FT</td>\n",
       "    </tr>\n",
       "  </tbody>\n",
       "</table>\n",
       "</div>"
      ],
      "text/plain": [
       "  Clinical indication ID Test ID                     Clinical Indication  \\\n",
       "0                    R67   R67.1                  Monogenic hearing loss   \n",
       "1                    R67   R67.2                  Monogenic hearing loss   \n",
       "2                   R125  R125.1  Thoracic aortic aneurysm or dissection   \n",
       "3                   R125  R125.2  Thoracic aortic aneurysm or dissection   \n",
       "4                   R127  R127.1                        Long QT syndrome   \n",
       "\n",
       "                                   Target/Genes          Test Method  \\\n",
       "0                            Hearing loss (126)   WES or Large Panel   \n",
       "1                            Hearing loss (126)   MLPA or equivalent   \n",
       "2  Thoracic aortic aneurysm or dissection (700)  WES or Medium Panel   \n",
       "3  Thoracic aortic aneurysm or dissection (700)   MLPA or equivalent   \n",
       "4                         Long QT syndrome (76)          Small panel   \n",
       "\n",
       "  Commissioning category Specialist test group  \\\n",
       "0            Specialised             Audiology   \n",
       "1            Specialised             Audiology   \n",
       "2            Specialised            Cardiology   \n",
       "3            Specialised            Cardiology   \n",
       "4            Specialised            Cardiology   \n",
       "\n",
       "   Changes since October 2022 v4 publication Single national provider  \\\n",
       "0  Update to gene content via PanelApp route                       No   \n",
       "1                                  No change                       No   \n",
       "2  Update to gene content via PanelApp route                       No   \n",
       "3                                  No change                       No   \n",
       "4                                  No change                       No   \n",
       "\n",
       "                  North East & Yorkshire GLH  \\\n",
       "0  North West GLH - Manchester University FT   \n",
       "1  North West GLH - Manchester University FT   \n",
       "2  North West GLH - Manchester University FT   \n",
       "3  North West GLH - Manchester University FT   \n",
       "4  North West GLH - Manchester University FT   \n",
       "\n",
       "                              North West GLH  \\\n",
       "0  North West GLH - Manchester University FT   \n",
       "1  North West GLH - Manchester University FT   \n",
       "2  North West GLH - Manchester University FT   \n",
       "3  North West GLH - Manchester University FT   \n",
       "4  North West GLH - Manchester University FT   \n",
       "\n",
       "                                   East GLH  \\\n",
       "0  North West GLH- Manchester University FT   \n",
       "1  North West GLH- Manchester University FT   \n",
       "2      South West GLH - North Bristol Trust   \n",
       "3      South West GLH - North Bristol Trust   \n",
       "4      South West GLH - North Bristol Trust   \n",
       "\n",
       "                            Central & South GLH  \\\n",
       "0    North Thames GLH - Great Ormond Street FT    \n",
       "1    North Thames GLH - Great Ormond Street FT    \n",
       "2          Central and South GLH - Salisbury FT   \n",
       "3          Central and South GLH - Salisbury FT   \n",
       "4  Central and South GLH - Oxford University FT   \n",
       "\n",
       "                               South West GLH  \\\n",
       "0  North Thames GLH - Great Ormond Street FT    \n",
       "1  North Thames GLH - Great Ormond Street FT    \n",
       "2        South West GLH - North Bristol Trust   \n",
       "3        South West GLH - North Bristol Trust   \n",
       "4        South West GLH - North Bristol Trust   \n",
       "\n",
       "                                   North Thames GLH  \\\n",
       "0        North Thames GLH - Great Ormond Street FT    \n",
       "1        North Thames GLH - Great Ormond Street FT    \n",
       "2  South East GLH - Royal Brompton and Harefield FT   \n",
       "3  South East GLH - Royal Brompton and Harefield FT   \n",
       "4  South East GLH - Royal Brompton and Harefield FT   \n",
       "\n",
       "                                     South East GLH  \n",
       "0        North Thames GLH - Great Ormond Street FT   \n",
       "1        North Thames GLH - Great Ormond Street FT   \n",
       "2  South East GLH - Royal Brompton and Harefield FT  \n",
       "3  South East GLH - Royal Brompton and Harefield FT  \n",
       "4  South East GLH - Royal Brompton and Harefield FT  "
      ]
     },
     "execution_count": 137,
     "metadata": {},
     "output_type": "execute_result"
    }
   ],
   "source": [
    "df = df[\"R&ID indications\"]\n",
    "df.head()"
   ]
  },
  {
   "attachments": {},
   "cell_type": "markdown",
   "metadata": {},
   "source": [
    "We can safely remove columns after the `Changes since October 2022 v4 publication` column."
   ]
  },
  {
   "cell_type": "code",
   "execution_count": 138,
   "metadata": {},
   "outputs": [
    {
     "data": {
      "text/html": [
       "<div>\n",
       "<style scoped>\n",
       "    .dataframe tbody tr th:only-of-type {\n",
       "        vertical-align: middle;\n",
       "    }\n",
       "\n",
       "    .dataframe tbody tr th {\n",
       "        vertical-align: top;\n",
       "    }\n",
       "\n",
       "    .dataframe thead th {\n",
       "        text-align: right;\n",
       "    }\n",
       "</style>\n",
       "<table border=\"1\" class=\"dataframe\">\n",
       "  <thead>\n",
       "    <tr style=\"text-align: right;\">\n",
       "      <th></th>\n",
       "      <th>Clinical indication ID</th>\n",
       "      <th>Test ID</th>\n",
       "      <th>Clinical Indication</th>\n",
       "      <th>Target/Genes</th>\n",
       "      <th>Test Method</th>\n",
       "      <th>Commissioning category</th>\n",
       "      <th>Specialist test group</th>\n",
       "      <th>Changes since October 2022 v4 publication</th>\n",
       "    </tr>\n",
       "  </thead>\n",
       "  <tbody>\n",
       "    <tr>\n",
       "      <th>0</th>\n",
       "      <td>R67</td>\n",
       "      <td>R67.1</td>\n",
       "      <td>Monogenic hearing loss</td>\n",
       "      <td>Hearing loss (126)</td>\n",
       "      <td>WES or Large Panel</td>\n",
       "      <td>Specialised</td>\n",
       "      <td>Audiology</td>\n",
       "      <td>Update to gene content via PanelApp route</td>\n",
       "    </tr>\n",
       "    <tr>\n",
       "      <th>1</th>\n",
       "      <td>R67</td>\n",
       "      <td>R67.2</td>\n",
       "      <td>Monogenic hearing loss</td>\n",
       "      <td>Hearing loss (126)</td>\n",
       "      <td>MLPA or equivalent</td>\n",
       "      <td>Specialised</td>\n",
       "      <td>Audiology</td>\n",
       "      <td>No change</td>\n",
       "    </tr>\n",
       "    <tr>\n",
       "      <th>2</th>\n",
       "      <td>R125</td>\n",
       "      <td>R125.1</td>\n",
       "      <td>Thoracic aortic aneurysm or dissection</td>\n",
       "      <td>Thoracic aortic aneurysm or dissection (700)</td>\n",
       "      <td>WES or Medium Panel</td>\n",
       "      <td>Specialised</td>\n",
       "      <td>Cardiology</td>\n",
       "      <td>Update to gene content via PanelApp route</td>\n",
       "    </tr>\n",
       "    <tr>\n",
       "      <th>3</th>\n",
       "      <td>R125</td>\n",
       "      <td>R125.2</td>\n",
       "      <td>Thoracic aortic aneurysm or dissection</td>\n",
       "      <td>Thoracic aortic aneurysm or dissection (700)</td>\n",
       "      <td>MLPA or equivalent</td>\n",
       "      <td>Specialised</td>\n",
       "      <td>Cardiology</td>\n",
       "      <td>No change</td>\n",
       "    </tr>\n",
       "    <tr>\n",
       "      <th>4</th>\n",
       "      <td>R127</td>\n",
       "      <td>R127.1</td>\n",
       "      <td>Long QT syndrome</td>\n",
       "      <td>Long QT syndrome (76)</td>\n",
       "      <td>Small panel</td>\n",
       "      <td>Specialised</td>\n",
       "      <td>Cardiology</td>\n",
       "      <td>No change</td>\n",
       "    </tr>\n",
       "  </tbody>\n",
       "</table>\n",
       "</div>"
      ],
      "text/plain": [
       "  Clinical indication ID Test ID                     Clinical Indication  \\\n",
       "0                    R67   R67.1                  Monogenic hearing loss   \n",
       "1                    R67   R67.2                  Monogenic hearing loss   \n",
       "2                   R125  R125.1  Thoracic aortic aneurysm or dissection   \n",
       "3                   R125  R125.2  Thoracic aortic aneurysm or dissection   \n",
       "4                   R127  R127.1                        Long QT syndrome   \n",
       "\n",
       "                                   Target/Genes          Test Method  \\\n",
       "0                            Hearing loss (126)   WES or Large Panel   \n",
       "1                            Hearing loss (126)   MLPA or equivalent   \n",
       "2  Thoracic aortic aneurysm or dissection (700)  WES or Medium Panel   \n",
       "3  Thoracic aortic aneurysm or dissection (700)   MLPA or equivalent   \n",
       "4                         Long QT syndrome (76)          Small panel   \n",
       "\n",
       "  Commissioning category Specialist test group  \\\n",
       "0            Specialised             Audiology   \n",
       "1            Specialised             Audiology   \n",
       "2            Specialised            Cardiology   \n",
       "3            Specialised            Cardiology   \n",
       "4            Specialised            Cardiology   \n",
       "\n",
       "   Changes since October 2022 v4 publication  \n",
       "0  Update to gene content via PanelApp route  \n",
       "1                                  No change  \n",
       "2  Update to gene content via PanelApp route  \n",
       "3                                  No change  \n",
       "4                                  No change  "
      ]
     },
     "execution_count": 138,
     "metadata": {},
     "output_type": "execute_result"
    }
   ],
   "source": [
    "df.drop(df.columns[8:], axis=1, inplace=True)\n",
    "df.head()"
   ]
  },
  {
   "attachments": {},
   "cell_type": "markdown",
   "metadata": {},
   "source": [
    "Let's say that we want to get all the clinical indications that had changes i.e. remove the lines with the `No change`."
   ]
  },
  {
   "cell_type": "code",
   "execution_count": 139,
   "metadata": {},
   "outputs": [
    {
     "data": {
      "text/html": [
       "<div>\n",
       "<style scoped>\n",
       "    .dataframe tbody tr th:only-of-type {\n",
       "        vertical-align: middle;\n",
       "    }\n",
       "\n",
       "    .dataframe tbody tr th {\n",
       "        vertical-align: top;\n",
       "    }\n",
       "\n",
       "    .dataframe thead th {\n",
       "        text-align: right;\n",
       "    }\n",
       "</style>\n",
       "<table border=\"1\" class=\"dataframe\">\n",
       "  <thead>\n",
       "    <tr style=\"text-align: right;\">\n",
       "      <th></th>\n",
       "      <th>Clinical indication ID</th>\n",
       "      <th>Test ID</th>\n",
       "      <th>Clinical Indication</th>\n",
       "      <th>Target/Genes</th>\n",
       "      <th>Test Method</th>\n",
       "      <th>Commissioning category</th>\n",
       "      <th>Specialist test group</th>\n",
       "      <th>Changes since October 2022 v4 publication</th>\n",
       "    </tr>\n",
       "  </thead>\n",
       "  <tbody>\n",
       "    <tr>\n",
       "      <th>0</th>\n",
       "      <td>R67</td>\n",
       "      <td>R67.1</td>\n",
       "      <td>Monogenic hearing loss</td>\n",
       "      <td>Hearing loss (126)</td>\n",
       "      <td>WES or Large Panel</td>\n",
       "      <td>Specialised</td>\n",
       "      <td>Audiology</td>\n",
       "      <td>Update to gene content via PanelApp route</td>\n",
       "    </tr>\n",
       "    <tr>\n",
       "      <th>2</th>\n",
       "      <td>R125</td>\n",
       "      <td>R125.1</td>\n",
       "      <td>Thoracic aortic aneurysm or dissection</td>\n",
       "      <td>Thoracic aortic aneurysm or dissection (700)</td>\n",
       "      <td>WES or Medium Panel</td>\n",
       "      <td>Specialised</td>\n",
       "      <td>Cardiology</td>\n",
       "      <td>Update to gene content via PanelApp route</td>\n",
       "    </tr>\n",
       "    <tr>\n",
       "      <th>8</th>\n",
       "      <td>R129</td>\n",
       "      <td>R129.1</td>\n",
       "      <td>Catecholaminergic polymorphic VT</td>\n",
       "      <td>Catecholaminergic polymorphic VT (214)</td>\n",
       "      <td>Small panel</td>\n",
       "      <td>Specialised</td>\n",
       "      <td>Cardiology</td>\n",
       "      <td>Update to gene content via PanelApp route</td>\n",
       "    </tr>\n",
       "    <tr>\n",
       "      <th>12</th>\n",
       "      <td>R131</td>\n",
       "      <td>R131.1</td>\n",
       "      <td>Hypertrophic cardiomyopathy</td>\n",
       "      <td>Hypertrophic cardiomyopathy - teen and adult (49)</td>\n",
       "      <td>WES or Medium Panel</td>\n",
       "      <td>Specialised</td>\n",
       "      <td>Cardiology</td>\n",
       "      <td>Update to gene content via PanelApp route</td>\n",
       "    </tr>\n",
       "    <tr>\n",
       "      <th>18</th>\n",
       "      <td>R135</td>\n",
       "      <td>R135.2</td>\n",
       "      <td>Paediatric or syndromic cardiomyopathy</td>\n",
       "      <td>Cardiomyopathies - including childhood onset (...</td>\n",
       "      <td>WGS</td>\n",
       "      <td>Specialised</td>\n",
       "      <td>Cardiology</td>\n",
       "      <td>Update to gene content via PanelApp route</td>\n",
       "    </tr>\n",
       "  </tbody>\n",
       "</table>\n",
       "</div>"
      ],
      "text/plain": [
       "   Clinical indication ID Test ID                     Clinical Indication  \\\n",
       "0                     R67   R67.1                  Monogenic hearing loss   \n",
       "2                    R125  R125.1  Thoracic aortic aneurysm or dissection   \n",
       "8                    R129  R129.1        Catecholaminergic polymorphic VT   \n",
       "12                   R131  R131.1             Hypertrophic cardiomyopathy   \n",
       "18                   R135  R135.2  Paediatric or syndromic cardiomyopathy   \n",
       "\n",
       "                                         Target/Genes          Test Method  \\\n",
       "0                                  Hearing loss (126)   WES or Large Panel   \n",
       "2        Thoracic aortic aneurysm or dissection (700)  WES or Medium Panel   \n",
       "8              Catecholaminergic polymorphic VT (214)          Small panel   \n",
       "12  Hypertrophic cardiomyopathy - teen and adult (49)  WES or Medium Panel   \n",
       "18  Cardiomyopathies - including childhood onset (...                  WGS   \n",
       "\n",
       "   Commissioning category Specialist test group  \\\n",
       "0             Specialised             Audiology   \n",
       "2             Specialised            Cardiology   \n",
       "8             Specialised            Cardiology   \n",
       "12            Specialised            Cardiology   \n",
       "18            Specialised            Cardiology   \n",
       "\n",
       "    Changes since October 2022 v4 publication  \n",
       "0   Update to gene content via PanelApp route  \n",
       "2   Update to gene content via PanelApp route  \n",
       "8   Update to gene content via PanelApp route  \n",
       "12  Update to gene content via PanelApp route  \n",
       "18  Update to gene content via PanelApp route  "
      ]
     },
     "execution_count": 139,
     "metadata": {},
     "output_type": "execute_result"
    }
   ],
   "source": [
    "df_with_changes = df[df[\"Changes since October 2022 v4 publication\"].str.contains(\"No change\")==False]\n",
    "df_with_changes.head()"
   ]
  },
  {
   "attachments": {},
   "cell_type": "markdown",
   "metadata": {},
   "source": [
    "Let's break down the command line:"
   ]
  },
  {
   "cell_type": "code",
   "execution_count": 140,
   "metadata": {},
   "outputs": [
    {
     "data": {
      "text/plain": [
       "0    Update to gene content via PanelApp route\n",
       "1                                    No change\n",
       "2    Update to gene content via PanelApp route\n",
       "3                                    No change\n",
       "4                                    No change\n",
       "Name: Changes since October 2022 v4 publication, dtype: object"
      ]
     },
     "execution_count": 140,
     "metadata": {},
     "output_type": "execute_result"
    }
   ],
   "source": [
    "df[\"Changes since October 2022 v4 publication\"].head()"
   ]
  },
  {
   "cell_type": "code",
   "execution_count": 141,
   "metadata": {},
   "outputs": [
    {
     "data": {
      "text/plain": [
       "pandas.core.series.Series"
      ]
     },
     "execution_count": 141,
     "metadata": {},
     "output_type": "execute_result"
    }
   ],
   "source": [
    "type(df[\"Changes since October 2022 v4 publication\"])"
   ]
  },
  {
   "cell_type": "code",
   "execution_count": 142,
   "metadata": {},
   "outputs": [
    {
     "data": {
      "text/plain": [
       "0      False\n",
       "1       True\n",
       "2      False\n",
       "3       True\n",
       "4       True\n",
       "       ...  \n",
       "623     True\n",
       "624     True\n",
       "625    False\n",
       "626     True\n",
       "627    False\n",
       "Name: Changes since October 2022 v4 publication, Length: 628, dtype: bool"
      ]
     },
     "execution_count": 142,
     "metadata": {},
     "output_type": "execute_result"
    }
   ],
   "source": [
    "df[\"Changes since October 2022 v4 publication\"].str.contains(\"No change\")"
   ]
  },
  {
   "cell_type": "code",
   "execution_count": 143,
   "metadata": {},
   "outputs": [
    {
     "data": {
      "text/plain": [
       "(127, 8)"
      ]
     },
     "execution_count": 143,
     "metadata": {},
     "output_type": "execute_result"
    }
   ],
   "source": [
    "df_with_changes.shape"
   ]
  },
  {
   "attachments": {},
   "cell_type": "markdown",
   "metadata": {},
   "source": [
    "Now we have all the clinical indications that are going to require some work. We can see what type of work by looking at the same column."
   ]
  },
  {
   "cell_type": "code",
   "execution_count": 144,
   "metadata": {},
   "outputs": [
    {
     "data": {
      "text/plain": [
       "array(['Update to gene content via PanelApp route',\n",
       "       'Addition of semi-rapid testing pathway for WGS indications',\n",
       "       'Test type reinstated',\n",
       "       'New clinical indication added, panel line',\n",
       "       'New clinical indication added, CNV line', 'Removed STR line',\n",
       "       'Added Confirmatory STR testing ', 'Gene target addition',\n",
       "       'New Clinical Indication added',\n",
       "       'Addition of Semi-rapid testing pathway for WGS indications',\n",
       "       'New clinical indication added',\n",
       "       'POT1 gene target added, moved to small panel ',\n",
       "       'POT1 gene target added', 'New test type added ',\n",
       "       'Test type added for deep sequencing',\n",
       "       'Removed STR line as STR to be analysed off of WGS',\n",
       "       'Removed STR line as STRs to be analysed off of WGS',\n",
       "       'RFC1 STR added', 'no change ',\n",
       "       'Update to gene content via PanelApp route, Changed CI name',\n",
       "       'Addition of semi-rapid testing pathway for WGS indications '],\n",
       "      dtype=object)"
      ]
     },
     "execution_count": 144,
     "metadata": {},
     "output_type": "execute_result"
    }
   ],
   "source": [
    "df_with_changes[\"Changes since October 2022 v4 publication\"].unique()"
   ]
  },
  {
   "cell_type": "code",
   "execution_count": 145,
   "metadata": {},
   "outputs": [
    {
     "data": {
      "text/plain": [
       "(21,)"
      ]
     },
     "execution_count": 145,
     "metadata": {},
     "output_type": "execute_result"
    }
   ],
   "source": [
    "df_with_changes[\"Changes since October 2022 v4 publication\"].unique().shape"
   ]
  },
  {
   "attachments": {},
   "cell_type": "markdown",
   "metadata": {},
   "source": [
    "21 \"different\" types of changes. It's still quite a lot.\n",
    "\n",
    "We can trim it down by filtering on the test method."
   ]
  },
  {
   "cell_type": "code",
   "execution_count": 146,
   "metadata": {},
   "outputs": [
    {
     "name": "stdout",
     "output_type": "stream",
     "text": [
      "(7,)\n"
     ]
    },
    {
     "name": "stderr",
     "output_type": "stream",
     "text": [
      "/tmp/ipykernel_27596/2676225020.py:11: UserWarning: This pattern is interpreted as a regular expression, and has match groups. To actually get the groups, use str.extract.\n",
      "  df_test_method_filtered = df_with_changes[df_with_changes[\"Test Method\"].str.contains(\"|\".join(filtering_string))]\n"
     ]
    },
    {
     "data": {
      "text/html": [
       "<div>\n",
       "<style scoped>\n",
       "    .dataframe tbody tr th:only-of-type {\n",
       "        vertical-align: middle;\n",
       "    }\n",
       "\n",
       "    .dataframe tbody tr th {\n",
       "        vertical-align: top;\n",
       "    }\n",
       "\n",
       "    .dataframe thead th {\n",
       "        text-align: right;\n",
       "    }\n",
       "</style>\n",
       "<table border=\"1\" class=\"dataframe\">\n",
       "  <thead>\n",
       "    <tr style=\"text-align: right;\">\n",
       "      <th></th>\n",
       "      <th>Clinical indication ID</th>\n",
       "      <th>Test ID</th>\n",
       "      <th>Clinical Indication</th>\n",
       "      <th>Target/Genes</th>\n",
       "      <th>Test Method</th>\n",
       "      <th>Commissioning category</th>\n",
       "      <th>Specialist test group</th>\n",
       "      <th>Changes since October 2022 v4 publication</th>\n",
       "    </tr>\n",
       "  </thead>\n",
       "  <tbody>\n",
       "    <tr>\n",
       "      <th>0</th>\n",
       "      <td>R67</td>\n",
       "      <td>R67.1</td>\n",
       "      <td>Monogenic hearing loss</td>\n",
       "      <td>Hearing loss (126)</td>\n",
       "      <td>WES or Large Panel</td>\n",
       "      <td>Specialised</td>\n",
       "      <td>Audiology</td>\n",
       "      <td>Update to gene content via PanelApp route</td>\n",
       "    </tr>\n",
       "    <tr>\n",
       "      <th>2</th>\n",
       "      <td>R125</td>\n",
       "      <td>R125.1</td>\n",
       "      <td>Thoracic aortic aneurysm or dissection</td>\n",
       "      <td>Thoracic aortic aneurysm or dissection (700)</td>\n",
       "      <td>WES or Medium Panel</td>\n",
       "      <td>Specialised</td>\n",
       "      <td>Cardiology</td>\n",
       "      <td>Update to gene content via PanelApp route</td>\n",
       "    </tr>\n",
       "    <tr>\n",
       "      <th>8</th>\n",
       "      <td>R129</td>\n",
       "      <td>R129.1</td>\n",
       "      <td>Catecholaminergic polymorphic VT</td>\n",
       "      <td>Catecholaminergic polymorphic VT (214)</td>\n",
       "      <td>Small panel</td>\n",
       "      <td>Specialised</td>\n",
       "      <td>Cardiology</td>\n",
       "      <td>Update to gene content via PanelApp route</td>\n",
       "    </tr>\n",
       "    <tr>\n",
       "      <th>12</th>\n",
       "      <td>R131</td>\n",
       "      <td>R131.1</td>\n",
       "      <td>Hypertrophic cardiomyopathy</td>\n",
       "      <td>Hypertrophic cardiomyopathy - teen and adult (49)</td>\n",
       "      <td>WES or Medium Panel</td>\n",
       "      <td>Specialised</td>\n",
       "      <td>Cardiology</td>\n",
       "      <td>Update to gene content via PanelApp route</td>\n",
       "    </tr>\n",
       "    <tr>\n",
       "      <th>18</th>\n",
       "      <td>R135</td>\n",
       "      <td>R135.2</td>\n",
       "      <td>Paediatric or syndromic cardiomyopathy</td>\n",
       "      <td>Cardiomyopathies - including childhood onset (...</td>\n",
       "      <td>WGS</td>\n",
       "      <td>Specialised</td>\n",
       "      <td>Cardiology</td>\n",
       "      <td>Update to gene content via PanelApp route</td>\n",
       "    </tr>\n",
       "    <tr>\n",
       "      <th>...</th>\n",
       "      <td>...</td>\n",
       "      <td>...</td>\n",
       "      <td>...</td>\n",
       "      <td>...</td>\n",
       "      <td>...</td>\n",
       "      <td>...</td>\n",
       "      <td>...</td>\n",
       "      <td>...</td>\n",
       "    </tr>\n",
       "    <tr>\n",
       "      <th>595</th>\n",
       "      <td>R139</td>\n",
       "      <td>R139.1</td>\n",
       "      <td>Laterality disorders and isomerism</td>\n",
       "      <td>Laterality disorders and isomerism (549)</td>\n",
       "      <td>WES or Medium Panel</td>\n",
       "      <td>Specialised</td>\n",
       "      <td>Respiratory</td>\n",
       "      <td>Update to gene content via PanelApp route</td>\n",
       "    </tr>\n",
       "    <tr>\n",
       "      <th>601</th>\n",
       "      <td>R189</td>\n",
       "      <td>R189.1</td>\n",
       "      <td>Respiratory ciliopathies including non-CF bron...</td>\n",
       "      <td>Respiratory ciliopathies including non-CF bron...</td>\n",
       "      <td>WES or Medium Panel</td>\n",
       "      <td>Specialised</td>\n",
       "      <td>Respiratory</td>\n",
       "      <td>Update to gene content via PanelApp route</td>\n",
       "    </tr>\n",
       "    <tr>\n",
       "      <th>613</th>\n",
       "      <td>R434</td>\n",
       "      <td>R434.1</td>\n",
       "      <td>Recurrent episodic apnoea</td>\n",
       "      <td>Recurrent episodic apnoea (1219)</td>\n",
       "      <td>Small panel</td>\n",
       "      <td>Specialised</td>\n",
       "      <td>Respiratory</td>\n",
       "      <td>New clinical indication added</td>\n",
       "    </tr>\n",
       "    <tr>\n",
       "      <th>625</th>\n",
       "      <td>R412</td>\n",
       "      <td>R412.1</td>\n",
       "      <td>Fetal anomalies with a likely genetic cause - ...</td>\n",
       "      <td>Fetal anomalies (478)</td>\n",
       "      <td>WES or Large Panel</td>\n",
       "      <td>Specialised</td>\n",
       "      <td>Specialised</td>\n",
       "      <td>Update to gene content via PanelApp route</td>\n",
       "    </tr>\n",
       "    <tr>\n",
       "      <th>627</th>\n",
       "      <td>R441</td>\n",
       "      <td>R441.1</td>\n",
       "      <td>Unexplained death in infancy  and sudden unexp...</td>\n",
       "      <td>Unexplained death in infancy and sudden unexpl...</td>\n",
       "      <td>WGS</td>\n",
       "      <td>Specialised</td>\n",
       "      <td>Specialised</td>\n",
       "      <td>New clinical indication added</td>\n",
       "    </tr>\n",
       "  </tbody>\n",
       "</table>\n",
       "<p>86 rows × 8 columns</p>\n",
       "</div>"
      ],
      "text/plain": [
       "    Clinical indication ID Test ID  \\\n",
       "0                      R67   R67.1   \n",
       "2                     R125  R125.1   \n",
       "8                     R129  R129.1   \n",
       "12                    R131  R131.1   \n",
       "18                    R135  R135.2   \n",
       "..                     ...     ...   \n",
       "595                   R139  R139.1   \n",
       "601                   R189  R189.1   \n",
       "613                   R434  R434.1   \n",
       "625                   R412  R412.1   \n",
       "627                   R441  R441.1   \n",
       "\n",
       "                                   Clinical Indication  \\\n",
       "0                               Monogenic hearing loss   \n",
       "2               Thoracic aortic aneurysm or dissection   \n",
       "8                     Catecholaminergic polymorphic VT   \n",
       "12                         Hypertrophic cardiomyopathy   \n",
       "18              Paediatric or syndromic cardiomyopathy   \n",
       "..                                                 ...   \n",
       "595                 Laterality disorders and isomerism   \n",
       "601  Respiratory ciliopathies including non-CF bron...   \n",
       "613                          Recurrent episodic apnoea   \n",
       "625  Fetal anomalies with a likely genetic cause - ...   \n",
       "627  Unexplained death in infancy  and sudden unexp...   \n",
       "\n",
       "                                          Target/Genes          Test Method  \\\n",
       "0                                   Hearing loss (126)   WES or Large Panel   \n",
       "2         Thoracic aortic aneurysm or dissection (700)  WES or Medium Panel   \n",
       "8               Catecholaminergic polymorphic VT (214)          Small panel   \n",
       "12   Hypertrophic cardiomyopathy - teen and adult (49)  WES or Medium Panel   \n",
       "18   Cardiomyopathies - including childhood onset (...                  WGS   \n",
       "..                                                 ...                  ...   \n",
       "595           Laterality disorders and isomerism (549)  WES or Medium Panel   \n",
       "601  Respiratory ciliopathies including non-CF bron...  WES or Medium Panel   \n",
       "613                   Recurrent episodic apnoea (1219)          Small panel   \n",
       "625                              Fetal anomalies (478)   WES or Large Panel   \n",
       "627  Unexplained death in infancy and sudden unexpl...                  WGS   \n",
       "\n",
       "    Commissioning category Specialist test group  \\\n",
       "0              Specialised             Audiology   \n",
       "2              Specialised            Cardiology   \n",
       "8              Specialised            Cardiology   \n",
       "12             Specialised            Cardiology   \n",
       "18             Specialised            Cardiology   \n",
       "..                     ...                   ...   \n",
       "595            Specialised           Respiratory   \n",
       "601            Specialised           Respiratory   \n",
       "613            Specialised           Respiratory   \n",
       "625            Specialised          Specialised    \n",
       "627           Specialised           Specialised    \n",
       "\n",
       "     Changes since October 2022 v4 publication  \n",
       "0    Update to gene content via PanelApp route  \n",
       "2    Update to gene content via PanelApp route  \n",
       "8    Update to gene content via PanelApp route  \n",
       "12   Update to gene content via PanelApp route  \n",
       "18   Update to gene content via PanelApp route  \n",
       "..                                         ...  \n",
       "595  Update to gene content via PanelApp route  \n",
       "601  Update to gene content via PanelApp route  \n",
       "613              New clinical indication added  \n",
       "625  Update to gene content via PanelApp route  \n",
       "627              New clinical indication added  \n",
       "\n",
       "[86 rows x 8 columns]"
      ]
     },
     "execution_count": 146,
     "metadata": {},
     "output_type": "execute_result"
    }
   ],
   "source": [
    "filtering_string = [\n",
    "        \"Medium panel\", \"Single gene sequencing <=10 amplicons\",\n",
    "        \"Single gene sequencing <10 amplicons\",\n",
    "        \"Single gene sequencing >=10 amplicons\",\n",
    "        \"Single gene testing (<10 amplicons)\", \"small panel\", \"Small panel\",\n",
    "        \"Small panel - deep sequencing\", \"WES or Large panel\", \"WES or Large Panel\",\n",
    "        \"WES or Large penel\", \"WES or Medium panel\", \"WES or Medium Panel\",\n",
    "        \"WES or Small Panel\", \"WGS\"\n",
    "]\n",
    "\n",
    "df_test_method_filtered = df_with_changes[df_with_changes[\"Test Method\"].str.contains(\"|\".join(filtering_string))]\n",
    "print(df_test_method_filtered[\"Changes since October 2022 v4 publication\"].unique().shape)\n",
    "df_test_method_filtered"
   ]
  },
  {
   "attachments": {},
   "cell_type": "markdown",
   "metadata": {},
   "source": [
    "One thing I'm interested in is if the targets for the clinical indications are panelapp panels or single genes.\n",
    "Let's check that out."
   ]
  },
  {
   "cell_type": "code",
   "execution_count": 156,
   "metadata": {},
   "outputs": [
    {
     "data": {
      "text/html": [
       "<div>\n",
       "<style scoped>\n",
       "    .dataframe tbody tr th:only-of-type {\n",
       "        vertical-align: middle;\n",
       "    }\n",
       "\n",
       "    .dataframe tbody tr th {\n",
       "        vertical-align: top;\n",
       "    }\n",
       "\n",
       "    .dataframe thead th {\n",
       "        text-align: right;\n",
       "    }\n",
       "</style>\n",
       "<table border=\"1\" class=\"dataframe\">\n",
       "  <thead>\n",
       "    <tr style=\"text-align: right;\">\n",
       "      <th></th>\n",
       "      <th>Clinical indication ID</th>\n",
       "      <th>Clinical Indication</th>\n",
       "      <th>Target/Genes</th>\n",
       "    </tr>\n",
       "  </thead>\n",
       "  <tbody>\n",
       "    <tr>\n",
       "      <th>158</th>\n",
       "      <td>R144</td>\n",
       "      <td>Congenital hyperinsulinism</td>\n",
       "      <td>ABCC8;KCNJ11</td>\n",
       "    </tr>\n",
       "  </tbody>\n",
       "</table>\n",
       "</div>"
      ],
      "text/plain": [
       "    Clinical indication ID         Clinical Indication  Target/Genes\n",
       "158                   R144  Congenital hyperinsulinism  ABCC8;KCNJ11"
      ]
     },
     "execution_count": 156,
     "metadata": {},
     "output_type": "execute_result"
    }
   ],
   "source": [
    "df_test_method_filtered[df_test_method_filtered[\"Test ID\"].str.contains(\"R144\")].loc[:, [\"Clinical indication ID\", \"Clinical Indication\", \"Target/Genes\"]]"
   ]
  },
  {
   "attachments": {},
   "cell_type": "markdown",
   "metadata": {},
   "source": [
    "These genes will need to be checked.\n",
    "Let's extract them."
   ]
  },
  {
   "cell_type": "code",
   "execution_count": 148,
   "metadata": {},
   "outputs": [
    {
     "data": {
      "text/plain": [
       "'BRCA1, BRCA2, MLH1, MSH2, MSH6, ATM, PALB2, CHEK2\\xa0'"
      ]
     },
     "execution_count": 148,
     "metadata": {},
     "output_type": "execute_result"
    }
   ],
   "source": [
    "df_single_genes = df_test_method_filtered[df_test_method_filtered[\"Target/Genes\"].str.contains(\"\\(\")==False]\n",
    "df_single_genes.loc[:, \"Target/Genes\"].iloc[0]"
   ]
  },
  {
   "attachments": {},
   "cell_type": "markdown",
   "metadata": {},
   "source": [
    "Looks like the encoding of the excel file is wrong. Let's fix that."
   ]
  },
  {
   "cell_type": "code",
   "execution_count": 149,
   "metadata": {},
   "outputs": [
    {
     "data": {
      "text/plain": [
       "'BRCA1, BRCA2, MLH1, MSH2, MSH6, ATM, PALB2, CHEK2'"
      ]
     },
     "execution_count": 149,
     "metadata": {},
     "output_type": "execute_result"
    }
   ],
   "source": [
    "df_normalized = df_test_method_filtered.apply(lambda x: x.str.normalize(\"NFKD\").str.strip())\n",
    "df_single_genes = df_normalized[df_normalized[\"Target/Genes\"].str.contains(\"\\(\")==False]\n",
    "df_single_genes.loc[:, \"Target/Genes\"].iloc[0]"
   ]
  },
  {
   "attachments": {},
   "cell_type": "markdown",
   "metadata": {},
   "source": [
    "I also need to look at the panelapp panels and their content to see if any work on the panel database is necessary."
   ]
  },
  {
   "cell_type": "code",
   "execution_count": 150,
   "metadata": {},
   "outputs": [
    {
     "data": {
      "text/plain": [
       "['126',\n",
       " '700',\n",
       " '214',\n",
       " '49',\n",
       " '749',\n",
       " '478',\n",
       " '486',\n",
       " '285',\n",
       " '490',\n",
       " '553',\n",
       " '555',\n",
       " '77',\n",
       " '565',\n",
       " '293',\n",
       " '473',\n",
       " '650',\n",
       " '130',\n",
       " '546',\n",
       " '483',\n",
       " '514',\n",
       " '1217',\n",
       " '508',\n",
       " '508',\n",
       " '525',\n",
       " '157',\n",
       " '519',\n",
       " '518',\n",
       " '398',\n",
       " '526',\n",
       " '528',\n",
       " '529',\n",
       " '467',\n",
       " '533',\n",
       " '534',\n",
       " '535',\n",
       " '536',\n",
       " '537',\n",
       " '538',\n",
       " '539',\n",
       " '168',\n",
       " '196',\n",
       " '309',\n",
       " '269',\n",
       " '496',\n",
       " '147',\n",
       " '465',\n",
       " '466',\n",
       " '488',\n",
       " '540',\n",
       " '847',\n",
       " '474',\n",
       " '402',\n",
       " '567',\n",
       " '568',\n",
       " '579',\n",
       " '22',\n",
       " '207',\n",
       " '225',\n",
       " '258',\n",
       " '488',\n",
       " '78',\n",
       " '179',\n",
       " '491',\n",
       " '162',\n",
       " '230',\n",
       " '307',\n",
       " '509',\n",
       " '186',\n",
       " '3',\n",
       " '487',\n",
       " '106',\n",
       " '292',\n",
       " '548',\n",
       " '149',\n",
       " '678',\n",
       " '549',\n",
       " '550',\n",
       " '1219',\n",
       " '478',\n",
       " '749']"
      ]
     },
     "execution_count": 150,
     "metadata": {},
     "output_type": "execute_result"
    }
   ],
   "source": [
    "import regex\n",
    "\n",
    "df_panels = df_normalized[df_normalized[\"Target/Genes\"].str.contains(\"\\(\")==True]\n",
    "\n",
    "panelapp_panel_ids = []\n",
    "\n",
    "for panel in df_panels[\"Target/Genes\"]:\n",
    "    match = regex.search(r\"[0-9]+\", panel)\n",
    "    panelapp_panel_ids.append(match.group(0))\n",
    "\n",
    "panelapp_panel_ids"
   ]
  },
  {
   "attachments": {
    "image.png": {
     "image/png": "[encoded data removed]"
    }
   },
   "cell_type": "markdown",
   "metadata": {},
   "source": [
    "### More attributes of a Dataframe\n",
    "\n",
    "![image.png](attachment:image.png)"
   ]
  },
  {
   "attachments": {},
   "cell_type": "markdown",
   "metadata": {},
   "source": [
    "### Lots of functions that can be applied to a Dataframe\n",
    "\n",
    "https://pandas.pydata.org/docs/reference/api/pandas.DataFrame.html"
   ]
  },
  {
   "attachments": {},
   "cell_type": "markdown",
   "metadata": {},
   "source": [
    "# Examples in our Github\n",
    "\n",
    "https://github.com/eastgenomics/test_directory_parser/blob/64dc19309af501bb980717ecc1dc19df3a12deda/test_directory_parser/rare_disease.py#L22\n",
    "\n",
    "https://github.com/eastgenomics/Ploutos/blob/be32e9313648c1bec52c24d6f8ab790f803cb690/Ploutos/scripts/leaderboard_plots.py#L1291\n",
    "\n",
    "https://github.com/eastgenomics/athena/blob/a6371df55390b030d03682de3abe5bedf6399077/bin/load_data.py#L85"
   ]
  },
  {
   "attachments": {},
   "cell_type": "markdown",
   "metadata": {},
   "source": [
    "# Resources\n",
    "\n",
    "https://pandas.pydata.org/docs/user_guide/10min.html \n",
    "\n",
    "https://jakevdp.github.io/PythonDataScienceHandbook/03.01-introducing-pandas-objects.html"
   ]
  }
 ],
 "metadata": {
  "kernelspec": {
   "display_name": "Python 3",
   "language": "python",
   "name": "python3"
  },
  "language_info": {
   "codemirror_mode": {
    "name": "ipython",
    "version": 3
   },
   "file_extension": ".py",
   "mimetype": "text/x-python",
   "name": "python",
   "nbconvert_exporter": "python",
   "pygments_lexer": "ipython3",
   "version": "3.8.10"
  },
  "orig_nbformat": 4
 },
 "nbformat": 4,
 "nbformat_minor": 2
}
